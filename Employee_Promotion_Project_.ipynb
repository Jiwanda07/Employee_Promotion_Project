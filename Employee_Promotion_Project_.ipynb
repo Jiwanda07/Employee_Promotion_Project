{
  "nbformat": 4,
  "nbformat_minor": 0,
  "metadata": {
    "colab": {
      "provenance": []
    },
    "kernelspec": {
      "name": "python3",
      "display_name": "Python 3"
    },
    "language_info": {
      "name": "python"
    }
  },
  "cells": [
    {
      "cell_type": "markdown",
      "source": [
        "# Define Library"
      ],
      "metadata": {
        "id": "QqsQKewgpEFC"
      }
    },
    {
      "cell_type": "code",
      "source": [
        "import numpy as np\n",
        "import pandas as pd"
      ],
      "metadata": {
        "id": "8vHXSIy8mLzq"
      },
      "execution_count": 1,
      "outputs": []
    },
    {
      "cell_type": "markdown",
      "source": [
        "# Import Dataset"
      ],
      "metadata": {
        "id": "hiIGYnQapJQX"
      }
    },
    {
      "cell_type": "code",
      "source": [
        "df = pd.read_csv('/content/Dataset15_Employee_Promotion.csv')\n",
        "df"
      ],
      "metadata": {
        "id": "gb3_3ELNrM2y",
        "colab": {
          "base_uri": "https://localhost:8080/",
          "height": 424
        },
        "outputId": "b3e6ca28-c805-4e0d-b58c-b87de667c83b"
      },
      "execution_count": 2,
      "outputs": [
        {
          "output_type": "execute_result",
          "data": {
            "text/plain": [
              "       employee_id         department         education gender  \\\n",
              "0            65438  Sales & Marketing  Master's & above      f   \n",
              "1            65141         Operations        Bachelor's      m   \n",
              "2             7513  Sales & Marketing        Bachelor's      m   \n",
              "3             2542  Sales & Marketing        Bachelor's      m   \n",
              "4            48945         Technology        Bachelor's      m   \n",
              "...            ...                ...               ...    ...   \n",
              "54803         3030         Technology        Bachelor's      m   \n",
              "54804        74592         Operations  Master's & above      f   \n",
              "54805        13918          Analytics        Bachelor's      m   \n",
              "54806        13614  Sales & Marketing               NaN      m   \n",
              "54807        51526                 HR        Bachelor's      m   \n",
              "\n",
              "      recruitment_channel  is_promoted  \n",
              "0                sourcing            0  \n",
              "1                   other            0  \n",
              "2                sourcing            0  \n",
              "3                   other            0  \n",
              "4                   other            0  \n",
              "...                   ...          ...  \n",
              "54803            sourcing            0  \n",
              "54804               other            0  \n",
              "54805               other            0  \n",
              "54806            sourcing            0  \n",
              "54807               other            0  \n",
              "\n",
              "[54808 rows x 6 columns]"
            ],
            "text/html": [
              "\n",
              "  <div id=\"df-0f00cad3-2be4-4fc1-96d0-3129556a5e2f\">\n",
              "    <div class=\"colab-df-container\">\n",
              "      <div>\n",
              "<style scoped>\n",
              "    .dataframe tbody tr th:only-of-type {\n",
              "        vertical-align: middle;\n",
              "    }\n",
              "\n",
              "    .dataframe tbody tr th {\n",
              "        vertical-align: top;\n",
              "    }\n",
              "\n",
              "    .dataframe thead th {\n",
              "        text-align: right;\n",
              "    }\n",
              "</style>\n",
              "<table border=\"1\" class=\"dataframe\">\n",
              "  <thead>\n",
              "    <tr style=\"text-align: right;\">\n",
              "      <th></th>\n",
              "      <th>employee_id</th>\n",
              "      <th>department</th>\n",
              "      <th>education</th>\n",
              "      <th>gender</th>\n",
              "      <th>recruitment_channel</th>\n",
              "      <th>is_promoted</th>\n",
              "    </tr>\n",
              "  </thead>\n",
              "  <tbody>\n",
              "    <tr>\n",
              "      <th>0</th>\n",
              "      <td>65438</td>\n",
              "      <td>Sales &amp; Marketing</td>\n",
              "      <td>Master's &amp; above</td>\n",
              "      <td>f</td>\n",
              "      <td>sourcing</td>\n",
              "      <td>0</td>\n",
              "    </tr>\n",
              "    <tr>\n",
              "      <th>1</th>\n",
              "      <td>65141</td>\n",
              "      <td>Operations</td>\n",
              "      <td>Bachelor's</td>\n",
              "      <td>m</td>\n",
              "      <td>other</td>\n",
              "      <td>0</td>\n",
              "    </tr>\n",
              "    <tr>\n",
              "      <th>2</th>\n",
              "      <td>7513</td>\n",
              "      <td>Sales &amp; Marketing</td>\n",
              "      <td>Bachelor's</td>\n",
              "      <td>m</td>\n",
              "      <td>sourcing</td>\n",
              "      <td>0</td>\n",
              "    </tr>\n",
              "    <tr>\n",
              "      <th>3</th>\n",
              "      <td>2542</td>\n",
              "      <td>Sales &amp; Marketing</td>\n",
              "      <td>Bachelor's</td>\n",
              "      <td>m</td>\n",
              "      <td>other</td>\n",
              "      <td>0</td>\n",
              "    </tr>\n",
              "    <tr>\n",
              "      <th>4</th>\n",
              "      <td>48945</td>\n",
              "      <td>Technology</td>\n",
              "      <td>Bachelor's</td>\n",
              "      <td>m</td>\n",
              "      <td>other</td>\n",
              "      <td>0</td>\n",
              "    </tr>\n",
              "    <tr>\n",
              "      <th>...</th>\n",
              "      <td>...</td>\n",
              "      <td>...</td>\n",
              "      <td>...</td>\n",
              "      <td>...</td>\n",
              "      <td>...</td>\n",
              "      <td>...</td>\n",
              "    </tr>\n",
              "    <tr>\n",
              "      <th>54803</th>\n",
              "      <td>3030</td>\n",
              "      <td>Technology</td>\n",
              "      <td>Bachelor's</td>\n",
              "      <td>m</td>\n",
              "      <td>sourcing</td>\n",
              "      <td>0</td>\n",
              "    </tr>\n",
              "    <tr>\n",
              "      <th>54804</th>\n",
              "      <td>74592</td>\n",
              "      <td>Operations</td>\n",
              "      <td>Master's &amp; above</td>\n",
              "      <td>f</td>\n",
              "      <td>other</td>\n",
              "      <td>0</td>\n",
              "    </tr>\n",
              "    <tr>\n",
              "      <th>54805</th>\n",
              "      <td>13918</td>\n",
              "      <td>Analytics</td>\n",
              "      <td>Bachelor's</td>\n",
              "      <td>m</td>\n",
              "      <td>other</td>\n",
              "      <td>0</td>\n",
              "    </tr>\n",
              "    <tr>\n",
              "      <th>54806</th>\n",
              "      <td>13614</td>\n",
              "      <td>Sales &amp; Marketing</td>\n",
              "      <td>NaN</td>\n",
              "      <td>m</td>\n",
              "      <td>sourcing</td>\n",
              "      <td>0</td>\n",
              "    </tr>\n",
              "    <tr>\n",
              "      <th>54807</th>\n",
              "      <td>51526</td>\n",
              "      <td>HR</td>\n",
              "      <td>Bachelor's</td>\n",
              "      <td>m</td>\n",
              "      <td>other</td>\n",
              "      <td>0</td>\n",
              "    </tr>\n",
              "  </tbody>\n",
              "</table>\n",
              "<p>54808 rows × 6 columns</p>\n",
              "</div>\n",
              "      <button class=\"colab-df-convert\" onclick=\"convertToInteractive('df-0f00cad3-2be4-4fc1-96d0-3129556a5e2f')\"\n",
              "              title=\"Convert this dataframe to an interactive table.\"\n",
              "              style=\"display:none;\">\n",
              "        \n",
              "  <svg xmlns=\"http://www.w3.org/2000/svg\" height=\"24px\"viewBox=\"0 0 24 24\"\n",
              "       width=\"24px\">\n",
              "    <path d=\"M0 0h24v24H0V0z\" fill=\"none\"/>\n",
              "    <path d=\"M18.56 5.44l.94 2.06.94-2.06 2.06-.94-2.06-.94-.94-2.06-.94 2.06-2.06.94zm-11 1L8.5 8.5l.94-2.06 2.06-.94-2.06-.94L8.5 2.5l-.94 2.06-2.06.94zm10 10l.94 2.06.94-2.06 2.06-.94-2.06-.94-.94-2.06-.94 2.06-2.06.94z\"/><path d=\"M17.41 7.96l-1.37-1.37c-.4-.4-.92-.59-1.43-.59-.52 0-1.04.2-1.43.59L10.3 9.45l-7.72 7.72c-.78.78-.78 2.05 0 2.83L4 21.41c.39.39.9.59 1.41.59.51 0 1.02-.2 1.41-.59l7.78-7.78 2.81-2.81c.8-.78.8-2.07 0-2.86zM5.41 20L4 18.59l7.72-7.72 1.47 1.35L5.41 20z\"/>\n",
              "  </svg>\n",
              "      </button>\n",
              "      \n",
              "  <style>\n",
              "    .colab-df-container {\n",
              "      display:flex;\n",
              "      flex-wrap:wrap;\n",
              "      gap: 12px;\n",
              "    }\n",
              "\n",
              "    .colab-df-convert {\n",
              "      background-color: #E8F0FE;\n",
              "      border: none;\n",
              "      border-radius: 50%;\n",
              "      cursor: pointer;\n",
              "      display: none;\n",
              "      fill: #1967D2;\n",
              "      height: 32px;\n",
              "      padding: 0 0 0 0;\n",
              "      width: 32px;\n",
              "    }\n",
              "\n",
              "    .colab-df-convert:hover {\n",
              "      background-color: #E2EBFA;\n",
              "      box-shadow: 0px 1px 2px rgba(60, 64, 67, 0.3), 0px 1px 3px 1px rgba(60, 64, 67, 0.15);\n",
              "      fill: #174EA6;\n",
              "    }\n",
              "\n",
              "    [theme=dark] .colab-df-convert {\n",
              "      background-color: #3B4455;\n",
              "      fill: #D2E3FC;\n",
              "    }\n",
              "\n",
              "    [theme=dark] .colab-df-convert:hover {\n",
              "      background-color: #434B5C;\n",
              "      box-shadow: 0px 1px 3px 1px rgba(0, 0, 0, 0.15);\n",
              "      filter: drop-shadow(0px 1px 2px rgba(0, 0, 0, 0.3));\n",
              "      fill: #FFFFFF;\n",
              "    }\n",
              "  </style>\n",
              "\n",
              "      <script>\n",
              "        const buttonEl =\n",
              "          document.querySelector('#df-0f00cad3-2be4-4fc1-96d0-3129556a5e2f button.colab-df-convert');\n",
              "        buttonEl.style.display =\n",
              "          google.colab.kernel.accessAllowed ? 'block' : 'none';\n",
              "\n",
              "        async function convertToInteractive(key) {\n",
              "          const element = document.querySelector('#df-0f00cad3-2be4-4fc1-96d0-3129556a5e2f');\n",
              "          const dataTable =\n",
              "            await google.colab.kernel.invokeFunction('convertToInteractive',\n",
              "                                                     [key], {});\n",
              "          if (!dataTable) return;\n",
              "\n",
              "          const docLinkHtml = 'Like what you see? Visit the ' +\n",
              "            '<a target=\"_blank\" href=https://colab.research.google.com/notebooks/data_table.ipynb>data table notebook</a>'\n",
              "            + ' to learn more about interactive tables.';\n",
              "          element.innerHTML = '';\n",
              "          dataTable['output_type'] = 'display_data';\n",
              "          await google.colab.output.renderOutput(dataTable, element);\n",
              "          const docLink = document.createElement('div');\n",
              "          docLink.innerHTML = docLinkHtml;\n",
              "          element.appendChild(docLink);\n",
              "        }\n",
              "      </script>\n",
              "    </div>\n",
              "  </div>\n",
              "  "
            ]
          },
          "metadata": {},
          "execution_count": 2
        }
      ]
    },
    {
      "cell_type": "markdown",
      "source": [
        "# Data Check"
      ],
      "metadata": {
        "id": "gOBa0XynpM1o"
      }
    },
    {
      "cell_type": "code",
      "source": [
        "df.info()"
      ],
      "metadata": {
        "id": "2ZFZDqWvpMQP",
        "colab": {
          "base_uri": "https://localhost:8080/"
        },
        "outputId": "e3ff8237-0a11-49d5-ba40-d65708aacb5a"
      },
      "execution_count": 3,
      "outputs": [
        {
          "output_type": "stream",
          "name": "stdout",
          "text": [
            "<class 'pandas.core.frame.DataFrame'>\n",
            "RangeIndex: 54808 entries, 0 to 54807\n",
            "Data columns (total 6 columns):\n",
            " #   Column               Non-Null Count  Dtype \n",
            "---  ------               --------------  ----- \n",
            " 0   employee_id          54808 non-null  int64 \n",
            " 1   department           54808 non-null  object\n",
            " 2   education            52399 non-null  object\n",
            " 3   gender               54808 non-null  object\n",
            " 4   recruitment_channel  54808 non-null  object\n",
            " 5   is_promoted          54808 non-null  int64 \n",
            "dtypes: int64(2), object(4)\n",
            "memory usage: 2.5+ MB\n"
          ]
        }
      ]
    },
    {
      "cell_type": "code",
      "source": [
        "# Duplication check for employee_id column\n",
        "\n",
        "df['employee_id'].duplicated().sum()"
      ],
      "metadata": {
        "colab": {
          "base_uri": "https://localhost:8080/"
        },
        "id": "1L9PDmUVZeNt",
        "outputId": "1df2a510-60d4-4cba-b368-237cc40784dd"
      },
      "execution_count": 4,
      "outputs": [
        {
          "output_type": "execute_result",
          "data": {
            "text/plain": [
              "0"
            ]
          },
          "metadata": {},
          "execution_count": 4
        }
      ]
    },
    {
      "cell_type": "code",
      "source": [
        "df['department'].unique()"
      ],
      "metadata": {
        "colab": {
          "base_uri": "https://localhost:8080/"
        },
        "id": "JwpLOhrduG7v",
        "outputId": "416e5e57-ddf7-45e4-b84f-d8b65393dbcb"
      },
      "execution_count": 5,
      "outputs": [
        {
          "output_type": "execute_result",
          "data": {
            "text/plain": [
              "array(['Sales & Marketing', 'Operations', 'Technology', 'Analytics',\n",
              "       'R&D', 'Procurement', 'Finance', 'HR', 'Legal'], dtype=object)"
            ]
          },
          "metadata": {},
          "execution_count": 5
        }
      ]
    },
    {
      "cell_type": "code",
      "source": [
        "df['education'].unique()"
      ],
      "metadata": {
        "colab": {
          "base_uri": "https://localhost:8080/"
        },
        "id": "Um322mztsrpA",
        "outputId": "943eec31-5bf2-458e-e5e6-2e0ef2e3c627"
      },
      "execution_count": 6,
      "outputs": [
        {
          "output_type": "execute_result",
          "data": {
            "text/plain": [
              "array([\"Master's & above\", \"Bachelor's\", nan, 'Below Secondary'],\n",
              "      dtype=object)"
            ]
          },
          "metadata": {},
          "execution_count": 6
        }
      ]
    },
    {
      "cell_type": "code",
      "source": [
        "df['gender'].unique()"
      ],
      "metadata": {
        "colab": {
          "base_uri": "https://localhost:8080/"
        },
        "id": "Fg1SDSUKuPcy",
        "outputId": "339fb1b2-35a0-4eb0-bdd1-d15ff73ed18e"
      },
      "execution_count": 7,
      "outputs": [
        {
          "output_type": "execute_result",
          "data": {
            "text/plain": [
              "array(['f', 'm'], dtype=object)"
            ]
          },
          "metadata": {},
          "execution_count": 7
        }
      ]
    },
    {
      "cell_type": "code",
      "source": [
        "df['recruitment_channel'].unique()"
      ],
      "metadata": {
        "colab": {
          "base_uri": "https://localhost:8080/"
        },
        "id": "C1TvmrTBuVQH",
        "outputId": "7d6c385e-5faf-4c5d-bca1-1a52b7c01b6e"
      },
      "execution_count": 8,
      "outputs": [
        {
          "output_type": "execute_result",
          "data": {
            "text/plain": [
              "array(['sourcing', 'other', 'referred'], dtype=object)"
            ]
          },
          "metadata": {},
          "execution_count": 8
        }
      ]
    },
    {
      "cell_type": "code",
      "source": [
        "df['is_promoted'].unique()"
      ],
      "metadata": {
        "colab": {
          "base_uri": "https://localhost:8080/"
        },
        "id": "j4HGmYS2ucX2",
        "outputId": "3b572b24-1365-4a0c-d966-097d5a70c1f5"
      },
      "execution_count": 9,
      "outputs": [
        {
          "output_type": "execute_result",
          "data": {
            "text/plain": [
              "array([0, 1])"
            ]
          },
          "metadata": {},
          "execution_count": 9
        }
      ]
    },
    {
      "cell_type": "code",
      "source": [
        "df.isnull().sum()"
      ],
      "metadata": {
        "colab": {
          "base_uri": "https://localhost:8080/"
        },
        "id": "rcFYq1u5O0S6",
        "outputId": "c9b1bc50-e3ba-4d33-a662-62d975827933"
      },
      "execution_count": 10,
      "outputs": [
        {
          "output_type": "execute_result",
          "data": {
            "text/plain": [
              "employee_id               0\n",
              "department                0\n",
              "education              2409\n",
              "gender                    0\n",
              "recruitment_channel       0\n",
              "is_promoted               0\n",
              "dtype: int64"
            ]
          },
          "metadata": {},
          "execution_count": 10
        }
      ]
    },
    {
      "cell_type": "markdown",
      "source": [
        "The data quality free from duplication and inconsistency, there are only 2409 blank data rows or arround 4.4% of total row in 'education' column."
      ],
      "metadata": {
        "id": "3LHOBlBPtZDb"
      }
    },
    {
      "cell_type": "markdown",
      "source": [
        "# Handling Missing Value"
      ],
      "metadata": {
        "id": "ObHNs3-6crPF"
      }
    },
    {
      "cell_type": "code",
      "source": [
        "df.groupby('education')['education'].count()"
      ],
      "metadata": {
        "colab": {
          "base_uri": "https://localhost:8080/"
        },
        "id": "aVwTdGH8Woyl",
        "outputId": "680700ad-16f3-4e3e-c8c1-602ce42646ac"
      },
      "execution_count": 11,
      "outputs": [
        {
          "output_type": "execute_result",
          "data": {
            "text/plain": [
              "education\n",
              "Bachelor's          36669\n",
              "Below Secondary       805\n",
              "Master's & above    14925\n",
              "Name: education, dtype: int64"
            ]
          },
          "metadata": {},
          "execution_count": 11
        }
      ]
    },
    {
      "cell_type": "code",
      "source": [
        "df['education'].mode()"
      ],
      "metadata": {
        "colab": {
          "base_uri": "https://localhost:8080/"
        },
        "id": "IchfYsOAc0df",
        "outputId": "ebb2ac47-e239-4e72-8d16-f22dfc7f23a1"
      },
      "execution_count": 12,
      "outputs": [
        {
          "output_type": "execute_result",
          "data": {
            "text/plain": [
              "0    Bachelor's\n",
              "dtype: object"
            ]
          },
          "metadata": {},
          "execution_count": 12
        }
      ]
    },
    {
      "cell_type": "code",
      "source": [
        "# Fill in the blank row in 'education' column with mode in this column\n",
        "\n",
        "modus = df['education'].mode()[0]\n",
        "df['education'] = df['education'].fillna(modus)\n",
        "\n",
        "df.info()"
      ],
      "metadata": {
        "colab": {
          "base_uri": "https://localhost:8080/"
        },
        "id": "HrnHc_ZufeVK",
        "outputId": "b44af7a2-6583-4a3c-91f1-cc69d73cb77d"
      },
      "execution_count": 13,
      "outputs": [
        {
          "output_type": "stream",
          "name": "stdout",
          "text": [
            "<class 'pandas.core.frame.DataFrame'>\n",
            "RangeIndex: 54808 entries, 0 to 54807\n",
            "Data columns (total 6 columns):\n",
            " #   Column               Non-Null Count  Dtype \n",
            "---  ------               --------------  ----- \n",
            " 0   employee_id          54808 non-null  int64 \n",
            " 1   department           54808 non-null  object\n",
            " 2   education            54808 non-null  object\n",
            " 3   gender               54808 non-null  object\n",
            " 4   recruitment_channel  54808 non-null  object\n",
            " 5   is_promoted          54808 non-null  int64 \n",
            "dtypes: int64(2), object(4)\n",
            "memory usage: 2.5+ MB\n"
          ]
        }
      ]
    },
    {
      "cell_type": "code",
      "source": [
        "df"
      ],
      "metadata": {
        "colab": {
          "base_uri": "https://localhost:8080/",
          "height": 424
        },
        "id": "BKIoMdcncfnU",
        "outputId": "aa24e414-76d8-44d5-8bca-b5e172d6579a"
      },
      "execution_count": 14,
      "outputs": [
        {
          "output_type": "execute_result",
          "data": {
            "text/plain": [
              "       employee_id         department         education gender  \\\n",
              "0            65438  Sales & Marketing  Master's & above      f   \n",
              "1            65141         Operations        Bachelor's      m   \n",
              "2             7513  Sales & Marketing        Bachelor's      m   \n",
              "3             2542  Sales & Marketing        Bachelor's      m   \n",
              "4            48945         Technology        Bachelor's      m   \n",
              "...            ...                ...               ...    ...   \n",
              "54803         3030         Technology        Bachelor's      m   \n",
              "54804        74592         Operations  Master's & above      f   \n",
              "54805        13918          Analytics        Bachelor's      m   \n",
              "54806        13614  Sales & Marketing        Bachelor's      m   \n",
              "54807        51526                 HR        Bachelor's      m   \n",
              "\n",
              "      recruitment_channel  is_promoted  \n",
              "0                sourcing            0  \n",
              "1                   other            0  \n",
              "2                sourcing            0  \n",
              "3                   other            0  \n",
              "4                   other            0  \n",
              "...                   ...          ...  \n",
              "54803            sourcing            0  \n",
              "54804               other            0  \n",
              "54805               other            0  \n",
              "54806            sourcing            0  \n",
              "54807               other            0  \n",
              "\n",
              "[54808 rows x 6 columns]"
            ],
            "text/html": [
              "\n",
              "  <div id=\"df-8b1c361b-86be-4bb1-aafc-b04c0e7a2170\">\n",
              "    <div class=\"colab-df-container\">\n",
              "      <div>\n",
              "<style scoped>\n",
              "    .dataframe tbody tr th:only-of-type {\n",
              "        vertical-align: middle;\n",
              "    }\n",
              "\n",
              "    .dataframe tbody tr th {\n",
              "        vertical-align: top;\n",
              "    }\n",
              "\n",
              "    .dataframe thead th {\n",
              "        text-align: right;\n",
              "    }\n",
              "</style>\n",
              "<table border=\"1\" class=\"dataframe\">\n",
              "  <thead>\n",
              "    <tr style=\"text-align: right;\">\n",
              "      <th></th>\n",
              "      <th>employee_id</th>\n",
              "      <th>department</th>\n",
              "      <th>education</th>\n",
              "      <th>gender</th>\n",
              "      <th>recruitment_channel</th>\n",
              "      <th>is_promoted</th>\n",
              "    </tr>\n",
              "  </thead>\n",
              "  <tbody>\n",
              "    <tr>\n",
              "      <th>0</th>\n",
              "      <td>65438</td>\n",
              "      <td>Sales &amp; Marketing</td>\n",
              "      <td>Master's &amp; above</td>\n",
              "      <td>f</td>\n",
              "      <td>sourcing</td>\n",
              "      <td>0</td>\n",
              "    </tr>\n",
              "    <tr>\n",
              "      <th>1</th>\n",
              "      <td>65141</td>\n",
              "      <td>Operations</td>\n",
              "      <td>Bachelor's</td>\n",
              "      <td>m</td>\n",
              "      <td>other</td>\n",
              "      <td>0</td>\n",
              "    </tr>\n",
              "    <tr>\n",
              "      <th>2</th>\n",
              "      <td>7513</td>\n",
              "      <td>Sales &amp; Marketing</td>\n",
              "      <td>Bachelor's</td>\n",
              "      <td>m</td>\n",
              "      <td>sourcing</td>\n",
              "      <td>0</td>\n",
              "    </tr>\n",
              "    <tr>\n",
              "      <th>3</th>\n",
              "      <td>2542</td>\n",
              "      <td>Sales &amp; Marketing</td>\n",
              "      <td>Bachelor's</td>\n",
              "      <td>m</td>\n",
              "      <td>other</td>\n",
              "      <td>0</td>\n",
              "    </tr>\n",
              "    <tr>\n",
              "      <th>4</th>\n",
              "      <td>48945</td>\n",
              "      <td>Technology</td>\n",
              "      <td>Bachelor's</td>\n",
              "      <td>m</td>\n",
              "      <td>other</td>\n",
              "      <td>0</td>\n",
              "    </tr>\n",
              "    <tr>\n",
              "      <th>...</th>\n",
              "      <td>...</td>\n",
              "      <td>...</td>\n",
              "      <td>...</td>\n",
              "      <td>...</td>\n",
              "      <td>...</td>\n",
              "      <td>...</td>\n",
              "    </tr>\n",
              "    <tr>\n",
              "      <th>54803</th>\n",
              "      <td>3030</td>\n",
              "      <td>Technology</td>\n",
              "      <td>Bachelor's</td>\n",
              "      <td>m</td>\n",
              "      <td>sourcing</td>\n",
              "      <td>0</td>\n",
              "    </tr>\n",
              "    <tr>\n",
              "      <th>54804</th>\n",
              "      <td>74592</td>\n",
              "      <td>Operations</td>\n",
              "      <td>Master's &amp; above</td>\n",
              "      <td>f</td>\n",
              "      <td>other</td>\n",
              "      <td>0</td>\n",
              "    </tr>\n",
              "    <tr>\n",
              "      <th>54805</th>\n",
              "      <td>13918</td>\n",
              "      <td>Analytics</td>\n",
              "      <td>Bachelor's</td>\n",
              "      <td>m</td>\n",
              "      <td>other</td>\n",
              "      <td>0</td>\n",
              "    </tr>\n",
              "    <tr>\n",
              "      <th>54806</th>\n",
              "      <td>13614</td>\n",
              "      <td>Sales &amp; Marketing</td>\n",
              "      <td>Bachelor's</td>\n",
              "      <td>m</td>\n",
              "      <td>sourcing</td>\n",
              "      <td>0</td>\n",
              "    </tr>\n",
              "    <tr>\n",
              "      <th>54807</th>\n",
              "      <td>51526</td>\n",
              "      <td>HR</td>\n",
              "      <td>Bachelor's</td>\n",
              "      <td>m</td>\n",
              "      <td>other</td>\n",
              "      <td>0</td>\n",
              "    </tr>\n",
              "  </tbody>\n",
              "</table>\n",
              "<p>54808 rows × 6 columns</p>\n",
              "</div>\n",
              "      <button class=\"colab-df-convert\" onclick=\"convertToInteractive('df-8b1c361b-86be-4bb1-aafc-b04c0e7a2170')\"\n",
              "              title=\"Convert this dataframe to an interactive table.\"\n",
              "              style=\"display:none;\">\n",
              "        \n",
              "  <svg xmlns=\"http://www.w3.org/2000/svg\" height=\"24px\"viewBox=\"0 0 24 24\"\n",
              "       width=\"24px\">\n",
              "    <path d=\"M0 0h24v24H0V0z\" fill=\"none\"/>\n",
              "    <path d=\"M18.56 5.44l.94 2.06.94-2.06 2.06-.94-2.06-.94-.94-2.06-.94 2.06-2.06.94zm-11 1L8.5 8.5l.94-2.06 2.06-.94-2.06-.94L8.5 2.5l-.94 2.06-2.06.94zm10 10l.94 2.06.94-2.06 2.06-.94-2.06-.94-.94-2.06-.94 2.06-2.06.94z\"/><path d=\"M17.41 7.96l-1.37-1.37c-.4-.4-.92-.59-1.43-.59-.52 0-1.04.2-1.43.59L10.3 9.45l-7.72 7.72c-.78.78-.78 2.05 0 2.83L4 21.41c.39.39.9.59 1.41.59.51 0 1.02-.2 1.41-.59l7.78-7.78 2.81-2.81c.8-.78.8-2.07 0-2.86zM5.41 20L4 18.59l7.72-7.72 1.47 1.35L5.41 20z\"/>\n",
              "  </svg>\n",
              "      </button>\n",
              "      \n",
              "  <style>\n",
              "    .colab-df-container {\n",
              "      display:flex;\n",
              "      flex-wrap:wrap;\n",
              "      gap: 12px;\n",
              "    }\n",
              "\n",
              "    .colab-df-convert {\n",
              "      background-color: #E8F0FE;\n",
              "      border: none;\n",
              "      border-radius: 50%;\n",
              "      cursor: pointer;\n",
              "      display: none;\n",
              "      fill: #1967D2;\n",
              "      height: 32px;\n",
              "      padding: 0 0 0 0;\n",
              "      width: 32px;\n",
              "    }\n",
              "\n",
              "    .colab-df-convert:hover {\n",
              "      background-color: #E2EBFA;\n",
              "      box-shadow: 0px 1px 2px rgba(60, 64, 67, 0.3), 0px 1px 3px 1px rgba(60, 64, 67, 0.15);\n",
              "      fill: #174EA6;\n",
              "    }\n",
              "\n",
              "    [theme=dark] .colab-df-convert {\n",
              "      background-color: #3B4455;\n",
              "      fill: #D2E3FC;\n",
              "    }\n",
              "\n",
              "    [theme=dark] .colab-df-convert:hover {\n",
              "      background-color: #434B5C;\n",
              "      box-shadow: 0px 1px 3px 1px rgba(0, 0, 0, 0.15);\n",
              "      filter: drop-shadow(0px 1px 2px rgba(0, 0, 0, 0.3));\n",
              "      fill: #FFFFFF;\n",
              "    }\n",
              "  </style>\n",
              "\n",
              "      <script>\n",
              "        const buttonEl =\n",
              "          document.querySelector('#df-8b1c361b-86be-4bb1-aafc-b04c0e7a2170 button.colab-df-convert');\n",
              "        buttonEl.style.display =\n",
              "          google.colab.kernel.accessAllowed ? 'block' : 'none';\n",
              "\n",
              "        async function convertToInteractive(key) {\n",
              "          const element = document.querySelector('#df-8b1c361b-86be-4bb1-aafc-b04c0e7a2170');\n",
              "          const dataTable =\n",
              "            await google.colab.kernel.invokeFunction('convertToInteractive',\n",
              "                                                     [key], {});\n",
              "          if (!dataTable) return;\n",
              "\n",
              "          const docLinkHtml = 'Like what you see? Visit the ' +\n",
              "            '<a target=\"_blank\" href=https://colab.research.google.com/notebooks/data_table.ipynb>data table notebook</a>'\n",
              "            + ' to learn more about interactive tables.';\n",
              "          element.innerHTML = '';\n",
              "          dataTable['output_type'] = 'display_data';\n",
              "          await google.colab.output.renderOutput(dataTable, element);\n",
              "          const docLink = document.createElement('div');\n",
              "          docLink.innerHTML = docLinkHtml;\n",
              "          element.appendChild(docLink);\n",
              "        }\n",
              "      </script>\n",
              "    </div>\n",
              "  </div>\n",
              "  "
            ]
          },
          "metadata": {},
          "execution_count": 14
        }
      ]
    },
    {
      "cell_type": "markdown",
      "source": [
        "# Analyze Each Variable"
      ],
      "metadata": {
        "id": "RrV8GoWW_fGH"
      }
    },
    {
      "cell_type": "code",
      "source": [
        "import seaborn as sns\n",
        "import matplotlib.pyplot as plt"
      ],
      "metadata": {
        "id": "LRWhDLK6pd8A"
      },
      "execution_count": 15,
      "outputs": []
    },
    {
      "cell_type": "code",
      "source": [
        "# department\n",
        "\n",
        "df['department'].value_counts()"
      ],
      "metadata": {
        "colab": {
          "base_uri": "https://localhost:8080/"
        },
        "id": "obW6UsQSHoxA",
        "outputId": "34f95acd-d501-4158-95bf-481eab80eca2"
      },
      "execution_count": 16,
      "outputs": [
        {
          "output_type": "execute_result",
          "data": {
            "text/plain": [
              "Sales & Marketing    16840\n",
              "Operations           11348\n",
              "Technology            7138\n",
              "Procurement           7138\n",
              "Analytics             5352\n",
              "Finance               2536\n",
              "HR                    2418\n",
              "Legal                 1039\n",
              "R&D                    999\n",
              "Name: department, dtype: int64"
            ]
          },
          "metadata": {},
          "execution_count": 16
        }
      ]
    },
    {
      "cell_type": "code",
      "source": [
        "plt.figure(figsize=(20,10))\n",
        "sns.countplot(data=df, x='department')"
      ],
      "metadata": {
        "colab": {
          "base_uri": "https://localhost:8080/",
          "height": 623
        },
        "id": "cp71kxcM_m4T",
        "outputId": "f287fecc-5cb6-4323-ca62-d4049bd0a87b"
      },
      "execution_count": 17,
      "outputs": [
        {
          "output_type": "execute_result",
          "data": {
            "text/plain": [
              "<matplotlib.axes._subplots.AxesSubplot at 0x7f2d3540a940>"
            ]
          },
          "metadata": {},
          "execution_count": 17
        },
        {
          "output_type": "display_data",
          "data": {
            "text/plain": [
              "<Figure size 1440x720 with 1 Axes>"
            ],
            "image/png": "[encoded data removed]"
          },
          "metadata": {
            "needs_background": "light"
          }
        }
      ]
    },
    {
      "cell_type": "markdown",
      "source": [
        "The highest number of employee is Sales & Marketing department."
      ],
      "metadata": {
        "id": "hsGQoIpaUh0n"
      }
    },
    {
      "cell_type": "code",
      "source": [
        "per_is_promoted = df.groupby(['department', 'is_promoted']).size().to_frame('Total')\n",
        "per_department = df.groupby(['department']).size().to_frame('Aggregate')\n",
        "per_is_prom_dept = per_is_promoted.join(\n",
        "    per_department,\n",
        "    on='department'\n",
        "    )\n",
        "per_is_prom_dept['Ratio'] = per_is_prom_dept['Total'] / per_is_prom_dept['Aggregate'] * 100\n",
        "per_is_prom_dept = per_is_prom_dept.reset_index()"
      ],
      "metadata": {
        "id": "ixuEu6qTBYNO"
      },
      "execution_count": 18,
      "outputs": []
    },
    {
      "cell_type": "code",
      "source": [
        "per_is_prom_dept"
      ],
      "metadata": {
        "colab": {
          "base_uri": "https://localhost:8080/",
          "height": 614
        },
        "id": "N42-d6fOQOSa",
        "outputId": "ffabc8db-9d81-4e74-da12-f9d57999e44b"
      },
      "execution_count": 19,
      "outputs": [
        {
          "output_type": "execute_result",
          "data": {
            "text/plain": [
              "           department  is_promoted  Total  Aggregate      Ratio\n",
              "0           Analytics            0   4840       5352  90.433483\n",
              "1           Analytics            1    512       5352   9.566517\n",
              "2             Finance            0   2330       2536  91.876972\n",
              "3             Finance            1    206       2536   8.123028\n",
              "4                  HR            0   2282       2418  94.375517\n",
              "5                  HR            1    136       2418   5.624483\n",
              "6               Legal            0    986       1039  94.898941\n",
              "7               Legal            1     53       1039   5.101059\n",
              "8          Operations            0  10325      11348  90.985196\n",
              "9          Operations            1   1023      11348   9.014804\n",
              "10        Procurement            0   6450       7138  90.361446\n",
              "11        Procurement            1    688       7138   9.638554\n",
              "12                R&D            0    930        999  93.093093\n",
              "13                R&D            1     69        999   6.906907\n",
              "14  Sales & Marketing            0  15627      16840  92.796912\n",
              "15  Sales & Marketing            1   1213      16840   7.203088\n",
              "16         Technology            0   6370       7138  89.240684\n",
              "17         Technology            1    768       7138  10.759316"
            ],
            "text/html": [
              "\n",
              "  <div id=\"df-84f8f611-3ef2-419c-b6d5-e91781992f29\">\n",
              "    <div class=\"colab-df-container\">\n",
              "      <div>\n",
              "<style scoped>\n",
              "    .dataframe tbody tr th:only-of-type {\n",
              "        vertical-align: middle;\n",
              "    }\n",
              "\n",
              "    .dataframe tbody tr th {\n",
              "        vertical-align: top;\n",
              "    }\n",
              "\n",
              "    .dataframe thead th {\n",
              "        text-align: right;\n",
              "    }\n",
              "</style>\n",
              "<table border=\"1\" class=\"dataframe\">\n",
              "  <thead>\n",
              "    <tr style=\"text-align: right;\">\n",
              "      <th></th>\n",
              "      <th>department</th>\n",
              "      <th>is_promoted</th>\n",
              "      <th>Total</th>\n",
              "      <th>Aggregate</th>\n",
              "      <th>Ratio</th>\n",
              "    </tr>\n",
              "  </thead>\n",
              "  <tbody>\n",
              "    <tr>\n",
              "      <th>0</th>\n",
              "      <td>Analytics</td>\n",
              "      <td>0</td>\n",
              "      <td>4840</td>\n",
              "      <td>5352</td>\n",
              "      <td>90.433483</td>\n",
              "    </tr>\n",
              "    <tr>\n",
              "      <th>1</th>\n",
              "      <td>Analytics</td>\n",
              "      <td>1</td>\n",
              "      <td>512</td>\n",
              "      <td>5352</td>\n",
              "      <td>9.566517</td>\n",
              "    </tr>\n",
              "    <tr>\n",
              "      <th>2</th>\n",
              "      <td>Finance</td>\n",
              "      <td>0</td>\n",
              "      <td>2330</td>\n",
              "      <td>2536</td>\n",
              "      <td>91.876972</td>\n",
              "    </tr>\n",
              "    <tr>\n",
              "      <th>3</th>\n",
              "      <td>Finance</td>\n",
              "      <td>1</td>\n",
              "      <td>206</td>\n",
              "      <td>2536</td>\n",
              "      <td>8.123028</td>\n",
              "    </tr>\n",
              "    <tr>\n",
              "      <th>4</th>\n",
              "      <td>HR</td>\n",
              "      <td>0</td>\n",
              "      <td>2282</td>\n",
              "      <td>2418</td>\n",
              "      <td>94.375517</td>\n",
              "    </tr>\n",
              "    <tr>\n",
              "      <th>5</th>\n",
              "      <td>HR</td>\n",
              "      <td>1</td>\n",
              "      <td>136</td>\n",
              "      <td>2418</td>\n",
              "      <td>5.624483</td>\n",
              "    </tr>\n",
              "    <tr>\n",
              "      <th>6</th>\n",
              "      <td>Legal</td>\n",
              "      <td>0</td>\n",
              "      <td>986</td>\n",
              "      <td>1039</td>\n",
              "      <td>94.898941</td>\n",
              "    </tr>\n",
              "    <tr>\n",
              "      <th>7</th>\n",
              "      <td>Legal</td>\n",
              "      <td>1</td>\n",
              "      <td>53</td>\n",
              "      <td>1039</td>\n",
              "      <td>5.101059</td>\n",
              "    </tr>\n",
              "    <tr>\n",
              "      <th>8</th>\n",
              "      <td>Operations</td>\n",
              "      <td>0</td>\n",
              "      <td>10325</td>\n",
              "      <td>11348</td>\n",
              "      <td>90.985196</td>\n",
              "    </tr>\n",
              "    <tr>\n",
              "      <th>9</th>\n",
              "      <td>Operations</td>\n",
              "      <td>1</td>\n",
              "      <td>1023</td>\n",
              "      <td>11348</td>\n",
              "      <td>9.014804</td>\n",
              "    </tr>\n",
              "    <tr>\n",
              "      <th>10</th>\n",
              "      <td>Procurement</td>\n",
              "      <td>0</td>\n",
              "      <td>6450</td>\n",
              "      <td>7138</td>\n",
              "      <td>90.361446</td>\n",
              "    </tr>\n",
              "    <tr>\n",
              "      <th>11</th>\n",
              "      <td>Procurement</td>\n",
              "      <td>1</td>\n",
              "      <td>688</td>\n",
              "      <td>7138</td>\n",
              "      <td>9.638554</td>\n",
              "    </tr>\n",
              "    <tr>\n",
              "      <th>12</th>\n",
              "      <td>R&amp;D</td>\n",
              "      <td>0</td>\n",
              "      <td>930</td>\n",
              "      <td>999</td>\n",
              "      <td>93.093093</td>\n",
              "    </tr>\n",
              "    <tr>\n",
              "      <th>13</th>\n",
              "      <td>R&amp;D</td>\n",
              "      <td>1</td>\n",
              "      <td>69</td>\n",
              "      <td>999</td>\n",
              "      <td>6.906907</td>\n",
              "    </tr>\n",
              "    <tr>\n",
              "      <th>14</th>\n",
              "      <td>Sales &amp; Marketing</td>\n",
              "      <td>0</td>\n",
              "      <td>15627</td>\n",
              "      <td>16840</td>\n",
              "      <td>92.796912</td>\n",
              "    </tr>\n",
              "    <tr>\n",
              "      <th>15</th>\n",
              "      <td>Sales &amp; Marketing</td>\n",
              "      <td>1</td>\n",
              "      <td>1213</td>\n",
              "      <td>16840</td>\n",
              "      <td>7.203088</td>\n",
              "    </tr>\n",
              "    <tr>\n",
              "      <th>16</th>\n",
              "      <td>Technology</td>\n",
              "      <td>0</td>\n",
              "      <td>6370</td>\n",
              "      <td>7138</td>\n",
              "      <td>89.240684</td>\n",
              "    </tr>\n",
              "    <tr>\n",
              "      <th>17</th>\n",
              "      <td>Technology</td>\n",
              "      <td>1</td>\n",
              "      <td>768</td>\n",
              "      <td>7138</td>\n",
              "      <td>10.759316</td>\n",
              "    </tr>\n",
              "  </tbody>\n",
              "</table>\n",
              "</div>\n",
              "      <button class=\"colab-df-convert\" onclick=\"convertToInteractive('df-84f8f611-3ef2-419c-b6d5-e91781992f29')\"\n",
              "              title=\"Convert this dataframe to an interactive table.\"\n",
              "              style=\"display:none;\">\n",
              "        \n",
              "  <svg xmlns=\"http://www.w3.org/2000/svg\" height=\"24px\"viewBox=\"0 0 24 24\"\n",
              "       width=\"24px\">\n",
              "    <path d=\"M0 0h24v24H0V0z\" fill=\"none\"/>\n",
              "    <path d=\"M18.56 5.44l.94 2.06.94-2.06 2.06-.94-2.06-.94-.94-2.06-.94 2.06-2.06.94zm-11 1L8.5 8.5l.94-2.06 2.06-.94-2.06-.94L8.5 2.5l-.94 2.06-2.06.94zm10 10l.94 2.06.94-2.06 2.06-.94-2.06-.94-.94-2.06-.94 2.06-2.06.94z\"/><path d=\"M17.41 7.96l-1.37-1.37c-.4-.4-.92-.59-1.43-.59-.52 0-1.04.2-1.43.59L10.3 9.45l-7.72 7.72c-.78.78-.78 2.05 0 2.83L4 21.41c.39.39.9.59 1.41.59.51 0 1.02-.2 1.41-.59l7.78-7.78 2.81-2.81c.8-.78.8-2.07 0-2.86zM5.41 20L4 18.59l7.72-7.72 1.47 1.35L5.41 20z\"/>\n",
              "  </svg>\n",
              "      </button>\n",
              "      \n",
              "  <style>\n",
              "    .colab-df-container {\n",
              "      display:flex;\n",
              "      flex-wrap:wrap;\n",
              "      gap: 12px;\n",
              "    }\n",
              "\n",
              "    .colab-df-convert {\n",
              "      background-color: #E8F0FE;\n",
              "      border: none;\n",
              "      border-radius: 50%;\n",
              "      cursor: pointer;\n",
              "      display: none;\n",
              "      fill: #1967D2;\n",
              "      height: 32px;\n",
              "      padding: 0 0 0 0;\n",
              "      width: 32px;\n",
              "    }\n",
              "\n",
              "    .colab-df-convert:hover {\n",
              "      background-color: #E2EBFA;\n",
              "      box-shadow: 0px 1px 2px rgba(60, 64, 67, 0.3), 0px 1px 3px 1px rgba(60, 64, 67, 0.15);\n",
              "      fill: #174EA6;\n",
              "    }\n",
              "\n",
              "    [theme=dark] .colab-df-convert {\n",
              "      background-color: #3B4455;\n",
              "      fill: #D2E3FC;\n",
              "    }\n",
              "\n",
              "    [theme=dark] .colab-df-convert:hover {\n",
              "      background-color: #434B5C;\n",
              "      box-shadow: 0px 1px 3px 1px rgba(0, 0, 0, 0.15);\n",
              "      filter: drop-shadow(0px 1px 2px rgba(0, 0, 0, 0.3));\n",
              "      fill: #FFFFFF;\n",
              "    }\n",
              "  </style>\n",
              "\n",
              "      <script>\n",
              "        const buttonEl =\n",
              "          document.querySelector('#df-84f8f611-3ef2-419c-b6d5-e91781992f29 button.colab-df-convert');\n",
              "        buttonEl.style.display =\n",
              "          google.colab.kernel.accessAllowed ? 'block' : 'none';\n",
              "\n",
              "        async function convertToInteractive(key) {\n",
              "          const element = document.querySelector('#df-84f8f611-3ef2-419c-b6d5-e91781992f29');\n",
              "          const dataTable =\n",
              "            await google.colab.kernel.invokeFunction('convertToInteractive',\n",
              "                                                     [key], {});\n",
              "          if (!dataTable) return;\n",
              "\n",
              "          const docLinkHtml = 'Like what you see? Visit the ' +\n",
              "            '<a target=\"_blank\" href=https://colab.research.google.com/notebooks/data_table.ipynb>data table notebook</a>'\n",
              "            + ' to learn more about interactive tables.';\n",
              "          element.innerHTML = '';\n",
              "          dataTable['output_type'] = 'display_data';\n",
              "          await google.colab.output.renderOutput(dataTable, element);\n",
              "          const docLink = document.createElement('div');\n",
              "          docLink.innerHTML = docLinkHtml;\n",
              "          element.appendChild(docLink);\n",
              "        }\n",
              "      </script>\n",
              "    </div>\n",
              "  </div>\n",
              "  "
            ]
          },
          "metadata": {},
          "execution_count": 19
        }
      ]
    },
    {
      "cell_type": "code",
      "source": [
        "plt.figure(figsize=(18,5))\n",
        "sns.barplot(data=per_is_prom_dept, y='Ratio', x='department', hue='is_promoted')"
      ],
      "metadata": {
        "colab": {
          "base_uri": "https://localhost:8080/",
          "height": 351
        },
        "id": "Zw8A6iDPQThY",
        "outputId": "bda5c487-40bd-48cf-a846-6a7f720e2aad"
      },
      "execution_count": 20,
      "outputs": [
        {
          "output_type": "execute_result",
          "data": {
            "text/plain": [
              "<matplotlib.axes._subplots.AxesSubplot at 0x7f2d35510f70>"
            ]
          },
          "metadata": {},
          "execution_count": 20
        },
        {
          "output_type": "display_data",
          "data": {
            "text/plain": [
              "<Figure size 1296x360 with 1 Axes>"
            ],
            "image/png": "[encoded data removed]"
          },
          "metadata": {
            "needs_background": "light"
          }
        }
      ]
    },
    {
      "cell_type": "markdown",
      "source": [
        "The highest employee promotion rate is Technology department, which is about 10.7%."
      ],
      "metadata": {
        "id": "l3rSGRAZVgxG"
      }
    },
    {
      "cell_type": "code",
      "source": [
        "# education\n",
        "\n",
        "df['education'].value_counts()"
      ],
      "metadata": {
        "colab": {
          "base_uri": "https://localhost:8080/"
        },
        "id": "3UYJMff-Rczd",
        "outputId": "d5b903ab-91eb-4d02-84b3-3a7fffba4229"
      },
      "execution_count": 21,
      "outputs": [
        {
          "output_type": "execute_result",
          "data": {
            "text/plain": [
              "Bachelor's          39078\n",
              "Master's & above    14925\n",
              "Below Secondary       805\n",
              "Name: education, dtype: int64"
            ]
          },
          "metadata": {},
          "execution_count": 21
        }
      ]
    },
    {
      "cell_type": "code",
      "source": [
        "plt.figure(figsize=(5,5))\n",
        "sns.countplot(data=df, x='education')"
      ],
      "metadata": {
        "colab": {
          "base_uri": "https://localhost:8080/",
          "height": 351
        },
        "id": "p6_fB1biSNi6",
        "outputId": "262fae91-7b88-40e9-a605-50cd4e86fefa"
      },
      "execution_count": 22,
      "outputs": [
        {
          "output_type": "execute_result",
          "data": {
            "text/plain": [
              "<matplotlib.axes._subplots.AxesSubplot at 0x7f2d3528d310>"
            ]
          },
          "metadata": {},
          "execution_count": 22
        },
        {
          "output_type": "display_data",
          "data": {
            "text/plain": [
              "<Figure size 360x360 with 1 Axes>"
            ],
            "image/png": "[encoded data removed]"
          },
          "metadata": {
            "needs_background": "light"
          }
        }
      ]
    },
    {
      "cell_type": "markdown",
      "source": [
        "The higest number employee's education is Bachelor's."
      ],
      "metadata": {
        "id": "HHglVnrFb_D-"
      }
    },
    {
      "cell_type": "code",
      "source": [
        "per_is_promoted = df.groupby(['education', 'is_promoted']).size().to_frame('Total')\n",
        "per_education = df.groupby(['education']).size().to_frame('Aggregate')\n",
        "per_is_prom_educ = per_is_promoted.join(\n",
        "    per_education,\n",
        "    on='education'\n",
        "    )\n",
        "per_is_prom_educ['Ratio'] = per_is_prom_educ['Total'] / per_is_prom_educ['Aggregate'] * 100\n",
        "per_is_prom_educ = per_is_prom_educ.reset_index()"
      ],
      "metadata": {
        "id": "cM_MvjVLTCTc"
      },
      "execution_count": 23,
      "outputs": []
    },
    {
      "cell_type": "code",
      "source": [
        "per_is_prom_educ"
      ],
      "metadata": {
        "colab": {
          "base_uri": "https://localhost:8080/",
          "height": 238
        },
        "id": "xqrGuJGnTboW",
        "outputId": "8f976301-b2aa-4b21-f3a4-b6504ba7d0ab"
      },
      "execution_count": 24,
      "outputs": [
        {
          "output_type": "execute_result",
          "data": {
            "text/plain": [
              "          education  is_promoted  Total  Aggregate      Ratio\n",
              "0        Bachelor's            0  35948      39078  91.990378\n",
              "1        Bachelor's            1   3130      39078   8.009622\n",
              "2   Below Secondary            0    738        805  91.677019\n",
              "3   Below Secondary            1     67        805   8.322981\n",
              "4  Master's & above            0  13454      14925  90.144054\n",
              "5  Master's & above            1   1471      14925   9.855946"
            ],
            "text/html": [
              "\n",
              "  <div id=\"df-434f0b8c-ddb1-48f8-ae87-f629f9a82efd\">\n",
              "    <div class=\"colab-df-container\">\n",
              "      <div>\n",
              "<style scoped>\n",
              "    .dataframe tbody tr th:only-of-type {\n",
              "        vertical-align: middle;\n",
              "    }\n",
              "\n",
              "    .dataframe tbody tr th {\n",
              "        vertical-align: top;\n",
              "    }\n",
              "\n",
              "    .dataframe thead th {\n",
              "        text-align: right;\n",
              "    }\n",
              "</style>\n",
              "<table border=\"1\" class=\"dataframe\">\n",
              "  <thead>\n",
              "    <tr style=\"text-align: right;\">\n",
              "      <th></th>\n",
              "      <th>education</th>\n",
              "      <th>is_promoted</th>\n",
              "      <th>Total</th>\n",
              "      <th>Aggregate</th>\n",
              "      <th>Ratio</th>\n",
              "    </tr>\n",
              "  </thead>\n",
              "  <tbody>\n",
              "    <tr>\n",
              "      <th>0</th>\n",
              "      <td>Bachelor's</td>\n",
              "      <td>0</td>\n",
              "      <td>35948</td>\n",
              "      <td>39078</td>\n",
              "      <td>91.990378</td>\n",
              "    </tr>\n",
              "    <tr>\n",
              "      <th>1</th>\n",
              "      <td>Bachelor's</td>\n",
              "      <td>1</td>\n",
              "      <td>3130</td>\n",
              "      <td>39078</td>\n",
              "      <td>8.009622</td>\n",
              "    </tr>\n",
              "    <tr>\n",
              "      <th>2</th>\n",
              "      <td>Below Secondary</td>\n",
              "      <td>0</td>\n",
              "      <td>738</td>\n",
              "      <td>805</td>\n",
              "      <td>91.677019</td>\n",
              "    </tr>\n",
              "    <tr>\n",
              "      <th>3</th>\n",
              "      <td>Below Secondary</td>\n",
              "      <td>1</td>\n",
              "      <td>67</td>\n",
              "      <td>805</td>\n",
              "      <td>8.322981</td>\n",
              "    </tr>\n",
              "    <tr>\n",
              "      <th>4</th>\n",
              "      <td>Master's &amp; above</td>\n",
              "      <td>0</td>\n",
              "      <td>13454</td>\n",
              "      <td>14925</td>\n",
              "      <td>90.144054</td>\n",
              "    </tr>\n",
              "    <tr>\n",
              "      <th>5</th>\n",
              "      <td>Master's &amp; above</td>\n",
              "      <td>1</td>\n",
              "      <td>1471</td>\n",
              "      <td>14925</td>\n",
              "      <td>9.855946</td>\n",
              "    </tr>\n",
              "  </tbody>\n",
              "</table>\n",
              "</div>\n",
              "      <button class=\"colab-df-convert\" onclick=\"convertToInteractive('df-434f0b8c-ddb1-48f8-ae87-f629f9a82efd')\"\n",
              "              title=\"Convert this dataframe to an interactive table.\"\n",
              "              style=\"display:none;\">\n",
              "        \n",
              "  <svg xmlns=\"http://www.w3.org/2000/svg\" height=\"24px\"viewBox=\"0 0 24 24\"\n",
              "       width=\"24px\">\n",
              "    <path d=\"M0 0h24v24H0V0z\" fill=\"none\"/>\n",
              "    <path d=\"M18.56 5.44l.94 2.06.94-2.06 2.06-.94-2.06-.94-.94-2.06-.94 2.06-2.06.94zm-11 1L8.5 8.5l.94-2.06 2.06-.94-2.06-.94L8.5 2.5l-.94 2.06-2.06.94zm10 10l.94 2.06.94-2.06 2.06-.94-2.06-.94-.94-2.06-.94 2.06-2.06.94z\"/><path d=\"M17.41 7.96l-1.37-1.37c-.4-.4-.92-.59-1.43-.59-.52 0-1.04.2-1.43.59L10.3 9.45l-7.72 7.72c-.78.78-.78 2.05 0 2.83L4 21.41c.39.39.9.59 1.41.59.51 0 1.02-.2 1.41-.59l7.78-7.78 2.81-2.81c.8-.78.8-2.07 0-2.86zM5.41 20L4 18.59l7.72-7.72 1.47 1.35L5.41 20z\"/>\n",
              "  </svg>\n",
              "      </button>\n",
              "      \n",
              "  <style>\n",
              "    .colab-df-container {\n",
              "      display:flex;\n",
              "      flex-wrap:wrap;\n",
              "      gap: 12px;\n",
              "    }\n",
              "\n",
              "    .colab-df-convert {\n",
              "      background-color: #E8F0FE;\n",
              "      border: none;\n",
              "      border-radius: 50%;\n",
              "      cursor: pointer;\n",
              "      display: none;\n",
              "      fill: #1967D2;\n",
              "      height: 32px;\n",
              "      padding: 0 0 0 0;\n",
              "      width: 32px;\n",
              "    }\n",
              "\n",
              "    .colab-df-convert:hover {\n",
              "      background-color: #E2EBFA;\n",
              "      box-shadow: 0px 1px 2px rgba(60, 64, 67, 0.3), 0px 1px 3px 1px rgba(60, 64, 67, 0.15);\n",
              "      fill: #174EA6;\n",
              "    }\n",
              "\n",
              "    [theme=dark] .colab-df-convert {\n",
              "      background-color: #3B4455;\n",
              "      fill: #D2E3FC;\n",
              "    }\n",
              "\n",
              "    [theme=dark] .colab-df-convert:hover {\n",
              "      background-color: #434B5C;\n",
              "      box-shadow: 0px 1px 3px 1px rgba(0, 0, 0, 0.15);\n",
              "      filter: drop-shadow(0px 1px 2px rgba(0, 0, 0, 0.3));\n",
              "      fill: #FFFFFF;\n",
              "    }\n",
              "  </style>\n",
              "\n",
              "      <script>\n",
              "        const buttonEl =\n",
              "          document.querySelector('#df-434f0b8c-ddb1-48f8-ae87-f629f9a82efd button.colab-df-convert');\n",
              "        buttonEl.style.display =\n",
              "          google.colab.kernel.accessAllowed ? 'block' : 'none';\n",
              "\n",
              "        async function convertToInteractive(key) {\n",
              "          const element = document.querySelector('#df-434f0b8c-ddb1-48f8-ae87-f629f9a82efd');\n",
              "          const dataTable =\n",
              "            await google.colab.kernel.invokeFunction('convertToInteractive',\n",
              "                                                     [key], {});\n",
              "          if (!dataTable) return;\n",
              "\n",
              "          const docLinkHtml = 'Like what you see? Visit the ' +\n",
              "            '<a target=\"_blank\" href=https://colab.research.google.com/notebooks/data_table.ipynb>data table notebook</a>'\n",
              "            + ' to learn more about interactive tables.';\n",
              "          element.innerHTML = '';\n",
              "          dataTable['output_type'] = 'display_data';\n",
              "          await google.colab.output.renderOutput(dataTable, element);\n",
              "          const docLink = document.createElement('div');\n",
              "          docLink.innerHTML = docLinkHtml;\n",
              "          element.appendChild(docLink);\n",
              "        }\n",
              "      </script>\n",
              "    </div>\n",
              "  </div>\n",
              "  "
            ]
          },
          "metadata": {},
          "execution_count": 24
        }
      ]
    },
    {
      "cell_type": "code",
      "source": [
        "plt.figure(figsize=(7,5))\n",
        "sns.barplot(data=per_is_prom_educ, y='Ratio', x='education', hue='is_promoted')"
      ],
      "metadata": {
        "colab": {
          "base_uri": "https://localhost:8080/",
          "height": 351
        },
        "id": "j8SFIIuUTfm0",
        "outputId": "4148242f-333e-4325-e909-aa4e735fb4b3"
      },
      "execution_count": 25,
      "outputs": [
        {
          "output_type": "execute_result",
          "data": {
            "text/plain": [
              "<matplotlib.axes._subplots.AxesSubplot at 0x7f2d35355760>"
            ]
          },
          "metadata": {},
          "execution_count": 25
        },
        {
          "output_type": "display_data",
          "data": {
            "text/plain": [
              "<Figure size 504x360 with 1 Axes>"
            ],
            "image/png": "[encoded data removed]"
          },
          "metadata": {
            "needs_background": "light"
          }
        }
      ]
    },
    {
      "cell_type": "markdown",
      "source": [
        "The highest percentage of employee promotions is Master's & above education. Which is 9.8%."
      ],
      "metadata": {
        "id": "GxY_aJbmc9Xm"
      }
    },
    {
      "cell_type": "code",
      "source": [
        "# gender\n",
        "\n",
        "df['gender'].value_counts()"
      ],
      "metadata": {
        "colab": {
          "base_uri": "https://localhost:8080/"
        },
        "id": "4_U-toJyT-X2",
        "outputId": "6e3b25fc-5a94-4885-bc7d-d2b2b7bbbc1c"
      },
      "execution_count": 26,
      "outputs": [
        {
          "output_type": "execute_result",
          "data": {
            "text/plain": [
              "m    38496\n",
              "f    16312\n",
              "Name: gender, dtype: int64"
            ]
          },
          "metadata": {},
          "execution_count": 26
        }
      ]
    },
    {
      "cell_type": "code",
      "source": [
        "plt.figure(figsize=(3,5))\n",
        "sns.countplot(data=df, x='gender')"
      ],
      "metadata": {
        "colab": {
          "base_uri": "https://localhost:8080/",
          "height": 352
        },
        "id": "67zbWeyKUIs3",
        "outputId": "6731d240-477b-4091-b6d1-6ae41f4cfe48"
      },
      "execution_count": 27,
      "outputs": [
        {
          "output_type": "execute_result",
          "data": {
            "text/plain": [
              "<matplotlib.axes._subplots.AxesSubplot at 0x7f2d351de8e0>"
            ]
          },
          "metadata": {},
          "execution_count": 27
        },
        {
          "output_type": "display_data",
          "data": {
            "text/plain": [
              "<Figure size 216x360 with 1 Axes>"
            ],
            "image/png": "[encoded data removed]"
          },
          "metadata": {
            "needs_background": "light"
          }
        }
      ]
    },
    {
      "cell_type": "markdown",
      "source": [
        "Male employeess dominate over female with a percentage of 70%."
      ],
      "metadata": {
        "id": "eew2TGtGiH-n"
      }
    },
    {
      "cell_type": "code",
      "source": [
        "per_is_promoted = df.groupby(['gender', 'is_promoted']).size().to_frame('Total')\n",
        "per_gender = df.groupby(['gender']).size().to_frame('Aggregate')\n",
        "per_is_prom_gender = per_is_promoted.join(\n",
        "    per_gender,\n",
        "    on='gender'\n",
        "    )\n",
        "per_is_prom_gender['Ratio'] = per_is_prom_gender['Total'] / per_is_prom_gender['Aggregate'] * 100\n",
        "per_is_prom_gender = per_is_prom_gender.reset_index()"
      ],
      "metadata": {
        "id": "-5UWXh17UaCK"
      },
      "execution_count": 28,
      "outputs": []
    },
    {
      "cell_type": "code",
      "source": [
        "per_is_prom_gender"
      ],
      "metadata": {
        "colab": {
          "base_uri": "https://localhost:8080/",
          "height": 175
        },
        "id": "wCHv96qfVDc-",
        "outputId": "93ae0706-4bc3-4184-ff31-f450fa26fc8f"
      },
      "execution_count": 29,
      "outputs": [
        {
          "output_type": "execute_result",
          "data": {
            "text/plain": [
              "  gender  is_promoted  Total  Aggregate      Ratio\n",
              "0      f            0  14845      16312  91.006621\n",
              "1      f            1   1467      16312   8.993379\n",
              "2      m            0  35295      38496  91.684850\n",
              "3      m            1   3201      38496   8.315150"
            ],
            "text/html": [
              "\n",
              "  <div id=\"df-94cae3b5-cc7f-4cf4-a260-2d139e929138\">\n",
              "    <div class=\"colab-df-container\">\n",
              "      <div>\n",
              "<style scoped>\n",
              "    .dataframe tbody tr th:only-of-type {\n",
              "        vertical-align: middle;\n",
              "    }\n",
              "\n",
              "    .dataframe tbody tr th {\n",
              "        vertical-align: top;\n",
              "    }\n",
              "\n",
              "    .dataframe thead th {\n",
              "        text-align: right;\n",
              "    }\n",
              "</style>\n",
              "<table border=\"1\" class=\"dataframe\">\n",
              "  <thead>\n",
              "    <tr style=\"text-align: right;\">\n",
              "      <th></th>\n",
              "      <th>gender</th>\n",
              "      <th>is_promoted</th>\n",
              "      <th>Total</th>\n",
              "      <th>Aggregate</th>\n",
              "      <th>Ratio</th>\n",
              "    </tr>\n",
              "  </thead>\n",
              "  <tbody>\n",
              "    <tr>\n",
              "      <th>0</th>\n",
              "      <td>f</td>\n",
              "      <td>0</td>\n",
              "      <td>14845</td>\n",
              "      <td>16312</td>\n",
              "      <td>91.006621</td>\n",
              "    </tr>\n",
              "    <tr>\n",
              "      <th>1</th>\n",
              "      <td>f</td>\n",
              "      <td>1</td>\n",
              "      <td>1467</td>\n",
              "      <td>16312</td>\n",
              "      <td>8.993379</td>\n",
              "    </tr>\n",
              "    <tr>\n",
              "      <th>2</th>\n",
              "      <td>m</td>\n",
              "      <td>0</td>\n",
              "      <td>35295</td>\n",
              "      <td>38496</td>\n",
              "      <td>91.684850</td>\n",
              "    </tr>\n",
              "    <tr>\n",
              "      <th>3</th>\n",
              "      <td>m</td>\n",
              "      <td>1</td>\n",
              "      <td>3201</td>\n",
              "      <td>38496</td>\n",
              "      <td>8.315150</td>\n",
              "    </tr>\n",
              "  </tbody>\n",
              "</table>\n",
              "</div>\n",
              "      <button class=\"colab-df-convert\" onclick=\"convertToInteractive('df-94cae3b5-cc7f-4cf4-a260-2d139e929138')\"\n",
              "              title=\"Convert this dataframe to an interactive table.\"\n",
              "              style=\"display:none;\">\n",
              "        \n",
              "  <svg xmlns=\"http://www.w3.org/2000/svg\" height=\"24px\"viewBox=\"0 0 24 24\"\n",
              "       width=\"24px\">\n",
              "    <path d=\"M0 0h24v24H0V0z\" fill=\"none\"/>\n",
              "    <path d=\"M18.56 5.44l.94 2.06.94-2.06 2.06-.94-2.06-.94-.94-2.06-.94 2.06-2.06.94zm-11 1L8.5 8.5l.94-2.06 2.06-.94-2.06-.94L8.5 2.5l-.94 2.06-2.06.94zm10 10l.94 2.06.94-2.06 2.06-.94-2.06-.94-.94-2.06-.94 2.06-2.06.94z\"/><path d=\"M17.41 7.96l-1.37-1.37c-.4-.4-.92-.59-1.43-.59-.52 0-1.04.2-1.43.59L10.3 9.45l-7.72 7.72c-.78.78-.78 2.05 0 2.83L4 21.41c.39.39.9.59 1.41.59.51 0 1.02-.2 1.41-.59l7.78-7.78 2.81-2.81c.8-.78.8-2.07 0-2.86zM5.41 20L4 18.59l7.72-7.72 1.47 1.35L5.41 20z\"/>\n",
              "  </svg>\n",
              "      </button>\n",
              "      \n",
              "  <style>\n",
              "    .colab-df-container {\n",
              "      display:flex;\n",
              "      flex-wrap:wrap;\n",
              "      gap: 12px;\n",
              "    }\n",
              "\n",
              "    .colab-df-convert {\n",
              "      background-color: #E8F0FE;\n",
              "      border: none;\n",
              "      border-radius: 50%;\n",
              "      cursor: pointer;\n",
              "      display: none;\n",
              "      fill: #1967D2;\n",
              "      height: 32px;\n",
              "      padding: 0 0 0 0;\n",
              "      width: 32px;\n",
              "    }\n",
              "\n",
              "    .colab-df-convert:hover {\n",
              "      background-color: #E2EBFA;\n",
              "      box-shadow: 0px 1px 2px rgba(60, 64, 67, 0.3), 0px 1px 3px 1px rgba(60, 64, 67, 0.15);\n",
              "      fill: #174EA6;\n",
              "    }\n",
              "\n",
              "    [theme=dark] .colab-df-convert {\n",
              "      background-color: #3B4455;\n",
              "      fill: #D2E3FC;\n",
              "    }\n",
              "\n",
              "    [theme=dark] .colab-df-convert:hover {\n",
              "      background-color: #434B5C;\n",
              "      box-shadow: 0px 1px 3px 1px rgba(0, 0, 0, 0.15);\n",
              "      filter: drop-shadow(0px 1px 2px rgba(0, 0, 0, 0.3));\n",
              "      fill: #FFFFFF;\n",
              "    }\n",
              "  </style>\n",
              "\n",
              "      <script>\n",
              "        const buttonEl =\n",
              "          document.querySelector('#df-94cae3b5-cc7f-4cf4-a260-2d139e929138 button.colab-df-convert');\n",
              "        buttonEl.style.display =\n",
              "          google.colab.kernel.accessAllowed ? 'block' : 'none';\n",
              "\n",
              "        async function convertToInteractive(key) {\n",
              "          const element = document.querySelector('#df-94cae3b5-cc7f-4cf4-a260-2d139e929138');\n",
              "          const dataTable =\n",
              "            await google.colab.kernel.invokeFunction('convertToInteractive',\n",
              "                                                     [key], {});\n",
              "          if (!dataTable) return;\n",
              "\n",
              "          const docLinkHtml = 'Like what you see? Visit the ' +\n",
              "            '<a target=\"_blank\" href=https://colab.research.google.com/notebooks/data_table.ipynb>data table notebook</a>'\n",
              "            + ' to learn more about interactive tables.';\n",
              "          element.innerHTML = '';\n",
              "          dataTable['output_type'] = 'display_data';\n",
              "          await google.colab.output.renderOutput(dataTable, element);\n",
              "          const docLink = document.createElement('div');\n",
              "          docLink.innerHTML = docLinkHtml;\n",
              "          element.appendChild(docLink);\n",
              "        }\n",
              "      </script>\n",
              "    </div>\n",
              "  </div>\n",
              "  "
            ]
          },
          "metadata": {},
          "execution_count": 29
        }
      ]
    },
    {
      "cell_type": "code",
      "source": [
        "plt.figure(figsize=(5,5))\n",
        "sns.barplot(data=per_is_prom_gender, y='Ratio', x='gender', hue='is_promoted')"
      ],
      "metadata": {
        "colab": {
          "base_uri": "https://localhost:8080/",
          "height": 351
        },
        "id": "fXGI5TFYVLHZ",
        "outputId": "6438158f-575f-41f0-82fb-51b3936dd526"
      },
      "execution_count": 30,
      "outputs": [
        {
          "output_type": "execute_result",
          "data": {
            "text/plain": [
              "<matplotlib.axes._subplots.AxesSubplot at 0x7f2d3526d610>"
            ]
          },
          "metadata": {},
          "execution_count": 30
        },
        {
          "output_type": "display_data",
          "data": {
            "text/plain": [
              "<Figure size 360x360 with 1 Axes>"
            ],
            "image/png": "[encoded data removed]"
          },
          "metadata": {
            "needs_background": "light"
          }
        }
      ]
    },
    {
      "cell_type": "markdown",
      "source": [
        "The percentage employee promotions for male and female almost the same."
      ],
      "metadata": {
        "id": "LmLLUGNymz8D"
      }
    },
    {
      "cell_type": "code",
      "source": [
        "# recruitment_channel\n",
        "\n",
        "df['recruitment_channel'].value_counts()"
      ],
      "metadata": {
        "colab": {
          "base_uri": "https://localhost:8080/"
        },
        "id": "3_wlN48zVX6X",
        "outputId": "c26824f5-c49a-43de-e1c5-9741c13851e6"
      },
      "execution_count": 31,
      "outputs": [
        {
          "output_type": "execute_result",
          "data": {
            "text/plain": [
              "other       30446\n",
              "sourcing    23220\n",
              "referred     1142\n",
              "Name: recruitment_channel, dtype: int64"
            ]
          },
          "metadata": {},
          "execution_count": 31
        }
      ]
    },
    {
      "cell_type": "code",
      "source": [
        "plt.figure(figsize=(5,5))\n",
        "sns.countplot(data=df, x='recruitment_channel')"
      ],
      "metadata": {
        "colab": {
          "base_uri": "https://localhost:8080/",
          "height": 352
        },
        "id": "Rt107-RwVr1U",
        "outputId": "1a006010-20b5-48ef-be99-7ee6b8cb074f"
      },
      "execution_count": 32,
      "outputs": [
        {
          "output_type": "execute_result",
          "data": {
            "text/plain": [
              "<matplotlib.axes._subplots.AxesSubplot at 0x7f2d34f727c0>"
            ]
          },
          "metadata": {},
          "execution_count": 32
        },
        {
          "output_type": "display_data",
          "data": {
            "text/plain": [
              "<Figure size 360x360 with 1 Axes>"
            ],
            "image/png": "[encoded data removed]"
          },
          "metadata": {
            "needs_background": "light"
          }
        }
      ]
    },
    {
      "cell_type": "code",
      "source": [
        "per_is_promoted = df.groupby(['recruitment_channel', 'is_promoted']).size().to_frame('Total')\n",
        "per_recruitment_channel = df.groupby(['recruitment_channel']).size().to_frame('Aggregate')\n",
        "per_is_prom_recr = per_is_promoted.join(\n",
        "    per_recruitment_channel,\n",
        "    on='recruitment_channel'\n",
        "    )\n",
        "per_is_prom_recr['Ratio'] = per_is_prom_recr['Total'] / per_is_prom_recr['Aggregate'] * 100\n",
        "per_is_prom_recr = per_is_prom_recr.reset_index()"
      ],
      "metadata": {
        "id": "lIoCYZiKV4Z3"
      },
      "execution_count": 33,
      "outputs": []
    },
    {
      "cell_type": "code",
      "source": [
        "per_is_prom_recr"
      ],
      "metadata": {
        "colab": {
          "base_uri": "https://localhost:8080/",
          "height": 238
        },
        "id": "OV7XhoNRWWQv",
        "outputId": "0748a7b8-3a14-4465-aef7-794a99b9a6d4"
      },
      "execution_count": 34,
      "outputs": [
        {
          "output_type": "execute_result",
          "data": {
            "text/plain": [
              "  recruitment_channel  is_promoted  Total  Aggregate      Ratio\n",
              "0               other            0  27890      30446  91.604809\n",
              "1               other            1   2556      30446   8.395191\n",
              "2            referred            0   1004       1142  87.915937\n",
              "3            referred            1    138       1142  12.084063\n",
              "4            sourcing            0  21246      23220  91.498708\n",
              "5            sourcing            1   1974      23220   8.501292"
            ],
            "text/html": [
              "\n",
              "  <div id=\"df-9ced1f7a-5081-4348-a517-2f6937986db5\">\n",
              "    <div class=\"colab-df-container\">\n",
              "      <div>\n",
              "<style scoped>\n",
              "    .dataframe tbody tr th:only-of-type {\n",
              "        vertical-align: middle;\n",
              "    }\n",
              "\n",
              "    .dataframe tbody tr th {\n",
              "        vertical-align: top;\n",
              "    }\n",
              "\n",
              "    .dataframe thead th {\n",
              "        text-align: right;\n",
              "    }\n",
              "</style>\n",
              "<table border=\"1\" class=\"dataframe\">\n",
              "  <thead>\n",
              "    <tr style=\"text-align: right;\">\n",
              "      <th></th>\n",
              "      <th>recruitment_channel</th>\n",
              "      <th>is_promoted</th>\n",
              "      <th>Total</th>\n",
              "      <th>Aggregate</th>\n",
              "      <th>Ratio</th>\n",
              "    </tr>\n",
              "  </thead>\n",
              "  <tbody>\n",
              "    <tr>\n",
              "      <th>0</th>\n",
              "      <td>other</td>\n",
              "      <td>0</td>\n",
              "      <td>27890</td>\n",
              "      <td>30446</td>\n",
              "      <td>91.604809</td>\n",
              "    </tr>\n",
              "    <tr>\n",
              "      <th>1</th>\n",
              "      <td>other</td>\n",
              "      <td>1</td>\n",
              "      <td>2556</td>\n",
              "      <td>30446</td>\n",
              "      <td>8.395191</td>\n",
              "    </tr>\n",
              "    <tr>\n",
              "      <th>2</th>\n",
              "      <td>referred</td>\n",
              "      <td>0</td>\n",
              "      <td>1004</td>\n",
              "      <td>1142</td>\n",
              "      <td>87.915937</td>\n",
              "    </tr>\n",
              "    <tr>\n",
              "      <th>3</th>\n",
              "      <td>referred</td>\n",
              "      <td>1</td>\n",
              "      <td>138</td>\n",
              "      <td>1142</td>\n",
              "      <td>12.084063</td>\n",
              "    </tr>\n",
              "    <tr>\n",
              "      <th>4</th>\n",
              "      <td>sourcing</td>\n",
              "      <td>0</td>\n",
              "      <td>21246</td>\n",
              "      <td>23220</td>\n",
              "      <td>91.498708</td>\n",
              "    </tr>\n",
              "    <tr>\n",
              "      <th>5</th>\n",
              "      <td>sourcing</td>\n",
              "      <td>1</td>\n",
              "      <td>1974</td>\n",
              "      <td>23220</td>\n",
              "      <td>8.501292</td>\n",
              "    </tr>\n",
              "  </tbody>\n",
              "</table>\n",
              "</div>\n",
              "      <button class=\"colab-df-convert\" onclick=\"convertToInteractive('df-9ced1f7a-5081-4348-a517-2f6937986db5')\"\n",
              "              title=\"Convert this dataframe to an interactive table.\"\n",
              "              style=\"display:none;\">\n",
              "        \n",
              "  <svg xmlns=\"http://www.w3.org/2000/svg\" height=\"24px\"viewBox=\"0 0 24 24\"\n",
              "       width=\"24px\">\n",
              "    <path d=\"M0 0h24v24H0V0z\" fill=\"none\"/>\n",
              "    <path d=\"M18.56 5.44l.94 2.06.94-2.06 2.06-.94-2.06-.94-.94-2.06-.94 2.06-2.06.94zm-11 1L8.5 8.5l.94-2.06 2.06-.94-2.06-.94L8.5 2.5l-.94 2.06-2.06.94zm10 10l.94 2.06.94-2.06 2.06-.94-2.06-.94-.94-2.06-.94 2.06-2.06.94z\"/><path d=\"M17.41 7.96l-1.37-1.37c-.4-.4-.92-.59-1.43-.59-.52 0-1.04.2-1.43.59L10.3 9.45l-7.72 7.72c-.78.78-.78 2.05 0 2.83L4 21.41c.39.39.9.59 1.41.59.51 0 1.02-.2 1.41-.59l7.78-7.78 2.81-2.81c.8-.78.8-2.07 0-2.86zM5.41 20L4 18.59l7.72-7.72 1.47 1.35L5.41 20z\"/>\n",
              "  </svg>\n",
              "      </button>\n",
              "      \n",
              "  <style>\n",
              "    .colab-df-container {\n",
              "      display:flex;\n",
              "      flex-wrap:wrap;\n",
              "      gap: 12px;\n",
              "    }\n",
              "\n",
              "    .colab-df-convert {\n",
              "      background-color: #E8F0FE;\n",
              "      border: none;\n",
              "      border-radius: 50%;\n",
              "      cursor: pointer;\n",
              "      display: none;\n",
              "      fill: #1967D2;\n",
              "      height: 32px;\n",
              "      padding: 0 0 0 0;\n",
              "      width: 32px;\n",
              "    }\n",
              "\n",
              "    .colab-df-convert:hover {\n",
              "      background-color: #E2EBFA;\n",
              "      box-shadow: 0px 1px 2px rgba(60, 64, 67, 0.3), 0px 1px 3px 1px rgba(60, 64, 67, 0.15);\n",
              "      fill: #174EA6;\n",
              "    }\n",
              "\n",
              "    [theme=dark] .colab-df-convert {\n",
              "      background-color: #3B4455;\n",
              "      fill: #D2E3FC;\n",
              "    }\n",
              "\n",
              "    [theme=dark] .colab-df-convert:hover {\n",
              "      background-color: #434B5C;\n",
              "      box-shadow: 0px 1px 3px 1px rgba(0, 0, 0, 0.15);\n",
              "      filter: drop-shadow(0px 1px 2px rgba(0, 0, 0, 0.3));\n",
              "      fill: #FFFFFF;\n",
              "    }\n",
              "  </style>\n",
              "\n",
              "      <script>\n",
              "        const buttonEl =\n",
              "          document.querySelector('#df-9ced1f7a-5081-4348-a517-2f6937986db5 button.colab-df-convert');\n",
              "        buttonEl.style.display =\n",
              "          google.colab.kernel.accessAllowed ? 'block' : 'none';\n",
              "\n",
              "        async function convertToInteractive(key) {\n",
              "          const element = document.querySelector('#df-9ced1f7a-5081-4348-a517-2f6937986db5');\n",
              "          const dataTable =\n",
              "            await google.colab.kernel.invokeFunction('convertToInteractive',\n",
              "                                                     [key], {});\n",
              "          if (!dataTable) return;\n",
              "\n",
              "          const docLinkHtml = 'Like what you see? Visit the ' +\n",
              "            '<a target=\"_blank\" href=https://colab.research.google.com/notebooks/data_table.ipynb>data table notebook</a>'\n",
              "            + ' to learn more about interactive tables.';\n",
              "          element.innerHTML = '';\n",
              "          dataTable['output_type'] = 'display_data';\n",
              "          await google.colab.output.renderOutput(dataTable, element);\n",
              "          const docLink = document.createElement('div');\n",
              "          docLink.innerHTML = docLinkHtml;\n",
              "          element.appendChild(docLink);\n",
              "        }\n",
              "      </script>\n",
              "    </div>\n",
              "  </div>\n",
              "  "
            ]
          },
          "metadata": {},
          "execution_count": 34
        }
      ]
    },
    {
      "cell_type": "code",
      "source": [
        "plt.figure(figsize=(5,5))\n",
        "sns.barplot(data=per_is_prom_recr, y='Ratio', x='recruitment_channel', hue='is_promoted')"
      ],
      "metadata": {
        "colab": {
          "base_uri": "https://localhost:8080/",
          "height": 352
        },
        "id": "o0nc_1nuWb-O",
        "outputId": "876886e1-6bd4-488e-a7f3-8dfbc2070bbc"
      },
      "execution_count": 35,
      "outputs": [
        {
          "output_type": "execute_result",
          "data": {
            "text/plain": [
              "<matplotlib.axes._subplots.AxesSubplot at 0x7f2d350e7220>"
            ]
          },
          "metadata": {},
          "execution_count": 35
        },
        {
          "output_type": "display_data",
          "data": {
            "text/plain": [
              "<Figure size 360x360 with 1 Axes>"
            ],
            "image/png": "[encoded data removed]"
          },
          "metadata": {
            "needs_background": "light"
          }
        }
      ]
    },
    {
      "cell_type": "markdown",
      "source": [
        "The percentage employee promotion from referred is highest. Which is about 12%."
      ],
      "metadata": {
        "id": "EPDLSj5Inkme"
      }
    },
    {
      "cell_type": "markdown",
      "source": [
        "#Feature Selection"
      ],
      "metadata": {
        "id": "faCJBANAbV4l"
      }
    },
    {
      "cell_type": "code",
      "source": [
        "FEATURE = ['department', 'education', 'gender', 'recruitment_channel']\n",
        "TARGET = ['is_promoted']\n",
        "\n",
        "X = df[FEATURE]\n",
        "y = df[TARGET]"
      ],
      "metadata": {
        "id": "7PVTdZ_-bVgA"
      },
      "execution_count": 36,
      "outputs": []
    },
    {
      "cell_type": "code",
      "source": [
        "X.head()"
      ],
      "metadata": {
        "colab": {
          "base_uri": "https://localhost:8080/",
          "height": 206
        },
        "id": "ydyi3FDycgPi",
        "outputId": "79c7387b-736a-408b-d95a-6d6bddfdf19d"
      },
      "execution_count": 37,
      "outputs": [
        {
          "output_type": "execute_result",
          "data": {
            "text/plain": [
              "          department         education gender recruitment_channel\n",
              "0  Sales & Marketing  Master's & above      f            sourcing\n",
              "1         Operations        Bachelor's      m               other\n",
              "2  Sales & Marketing        Bachelor's      m            sourcing\n",
              "3  Sales & Marketing        Bachelor's      m               other\n",
              "4         Technology        Bachelor's      m               other"
            ],
            "text/html": [
              "\n",
              "  <div id=\"df-503d4113-f5c8-4ec0-b76f-c0d9354c214a\">\n",
              "    <div class=\"colab-df-container\">\n",
              "      <div>\n",
              "<style scoped>\n",
              "    .dataframe tbody tr th:only-of-type {\n",
              "        vertical-align: middle;\n",
              "    }\n",
              "\n",
              "    .dataframe tbody tr th {\n",
              "        vertical-align: top;\n",
              "    }\n",
              "\n",
              "    .dataframe thead th {\n",
              "        text-align: right;\n",
              "    }\n",
              "</style>\n",
              "<table border=\"1\" class=\"dataframe\">\n",
              "  <thead>\n",
              "    <tr style=\"text-align: right;\">\n",
              "      <th></th>\n",
              "      <th>department</th>\n",
              "      <th>education</th>\n",
              "      <th>gender</th>\n",
              "      <th>recruitment_channel</th>\n",
              "    </tr>\n",
              "  </thead>\n",
              "  <tbody>\n",
              "    <tr>\n",
              "      <th>0</th>\n",
              "      <td>Sales &amp; Marketing</td>\n",
              "      <td>Master's &amp; above</td>\n",
              "      <td>f</td>\n",
              "      <td>sourcing</td>\n",
              "    </tr>\n",
              "    <tr>\n",
              "      <th>1</th>\n",
              "      <td>Operations</td>\n",
              "      <td>Bachelor's</td>\n",
              "      <td>m</td>\n",
              "      <td>other</td>\n",
              "    </tr>\n",
              "    <tr>\n",
              "      <th>2</th>\n",
              "      <td>Sales &amp; Marketing</td>\n",
              "      <td>Bachelor's</td>\n",
              "      <td>m</td>\n",
              "      <td>sourcing</td>\n",
              "    </tr>\n",
              "    <tr>\n",
              "      <th>3</th>\n",
              "      <td>Sales &amp; Marketing</td>\n",
              "      <td>Bachelor's</td>\n",
              "      <td>m</td>\n",
              "      <td>other</td>\n",
              "    </tr>\n",
              "    <tr>\n",
              "      <th>4</th>\n",
              "      <td>Technology</td>\n",
              "      <td>Bachelor's</td>\n",
              "      <td>m</td>\n",
              "      <td>other</td>\n",
              "    </tr>\n",
              "  </tbody>\n",
              "</table>\n",
              "</div>\n",
              "      <button class=\"colab-df-convert\" onclick=\"convertToInteractive('df-503d4113-f5c8-4ec0-b76f-c0d9354c214a')\"\n",
              "              title=\"Convert this dataframe to an interactive table.\"\n",
              "              style=\"display:none;\">\n",
              "        \n",
              "  <svg xmlns=\"http://www.w3.org/2000/svg\" height=\"24px\"viewBox=\"0 0 24 24\"\n",
              "       width=\"24px\">\n",
              "    <path d=\"M0 0h24v24H0V0z\" fill=\"none\"/>\n",
              "    <path d=\"M18.56 5.44l.94 2.06.94-2.06 2.06-.94-2.06-.94-.94-2.06-.94 2.06-2.06.94zm-11 1L8.5 8.5l.94-2.06 2.06-.94-2.06-.94L8.5 2.5l-.94 2.06-2.06.94zm10 10l.94 2.06.94-2.06 2.06-.94-2.06-.94-.94-2.06-.94 2.06-2.06.94z\"/><path d=\"M17.41 7.96l-1.37-1.37c-.4-.4-.92-.59-1.43-.59-.52 0-1.04.2-1.43.59L10.3 9.45l-7.72 7.72c-.78.78-.78 2.05 0 2.83L4 21.41c.39.39.9.59 1.41.59.51 0 1.02-.2 1.41-.59l7.78-7.78 2.81-2.81c.8-.78.8-2.07 0-2.86zM5.41 20L4 18.59l7.72-7.72 1.47 1.35L5.41 20z\"/>\n",
              "  </svg>\n",
              "      </button>\n",
              "      \n",
              "  <style>\n",
              "    .colab-df-container {\n",
              "      display:flex;\n",
              "      flex-wrap:wrap;\n",
              "      gap: 12px;\n",
              "    }\n",
              "\n",
              "    .colab-df-convert {\n",
              "      background-color: #E8F0FE;\n",
              "      border: none;\n",
              "      border-radius: 50%;\n",
              "      cursor: pointer;\n",
              "      display: none;\n",
              "      fill: #1967D2;\n",
              "      height: 32px;\n",
              "      padding: 0 0 0 0;\n",
              "      width: 32px;\n",
              "    }\n",
              "\n",
              "    .colab-df-convert:hover {\n",
              "      background-color: #E2EBFA;\n",
              "      box-shadow: 0px 1px 2px rgba(60, 64, 67, 0.3), 0px 1px 3px 1px rgba(60, 64, 67, 0.15);\n",
              "      fill: #174EA6;\n",
              "    }\n",
              "\n",
              "    [theme=dark] .colab-df-convert {\n",
              "      background-color: #3B4455;\n",
              "      fill: #D2E3FC;\n",
              "    }\n",
              "\n",
              "    [theme=dark] .colab-df-convert:hover {\n",
              "      background-color: #434B5C;\n",
              "      box-shadow: 0px 1px 3px 1px rgba(0, 0, 0, 0.15);\n",
              "      filter: drop-shadow(0px 1px 2px rgba(0, 0, 0, 0.3));\n",
              "      fill: #FFFFFF;\n",
              "    }\n",
              "  </style>\n",
              "\n",
              "      <script>\n",
              "        const buttonEl =\n",
              "          document.querySelector('#df-503d4113-f5c8-4ec0-b76f-c0d9354c214a button.colab-df-convert');\n",
              "        buttonEl.style.display =\n",
              "          google.colab.kernel.accessAllowed ? 'block' : 'none';\n",
              "\n",
              "        async function convertToInteractive(key) {\n",
              "          const element = document.querySelector('#df-503d4113-f5c8-4ec0-b76f-c0d9354c214a');\n",
              "          const dataTable =\n",
              "            await google.colab.kernel.invokeFunction('convertToInteractive',\n",
              "                                                     [key], {});\n",
              "          if (!dataTable) return;\n",
              "\n",
              "          const docLinkHtml = 'Like what you see? Visit the ' +\n",
              "            '<a target=\"_blank\" href=https://colab.research.google.com/notebooks/data_table.ipynb>data table notebook</a>'\n",
              "            + ' to learn more about interactive tables.';\n",
              "          element.innerHTML = '';\n",
              "          dataTable['output_type'] = 'display_data';\n",
              "          await google.colab.output.renderOutput(dataTable, element);\n",
              "          const docLink = document.createElement('div');\n",
              "          docLink.innerHTML = docLinkHtml;\n",
              "          element.appendChild(docLink);\n",
              "        }\n",
              "      </script>\n",
              "    </div>\n",
              "  </div>\n",
              "  "
            ]
          },
          "metadata": {},
          "execution_count": 37
        }
      ]
    },
    {
      "cell_type": "code",
      "source": [
        "y.head()"
      ],
      "metadata": {
        "colab": {
          "base_uri": "https://localhost:8080/",
          "height": 206
        },
        "id": "JtQbEQ_EcmZU",
        "outputId": "0d1bd905-b3bd-421e-9836-e2c6e1d0ae63"
      },
      "execution_count": 38,
      "outputs": [
        {
          "output_type": "execute_result",
          "data": {
            "text/plain": [
              "   is_promoted\n",
              "0            0\n",
              "1            0\n",
              "2            0\n",
              "3            0\n",
              "4            0"
            ],
            "text/html": [
              "\n",
              "  <div id=\"df-d4c876af-372a-4344-95a2-95e2de4e3d50\">\n",
              "    <div class=\"colab-df-container\">\n",
              "      <div>\n",
              "<style scoped>\n",
              "    .dataframe tbody tr th:only-of-type {\n",
              "        vertical-align: middle;\n",
              "    }\n",
              "\n",
              "    .dataframe tbody tr th {\n",
              "        vertical-align: top;\n",
              "    }\n",
              "\n",
              "    .dataframe thead th {\n",
              "        text-align: right;\n",
              "    }\n",
              "</style>\n",
              "<table border=\"1\" class=\"dataframe\">\n",
              "  <thead>\n",
              "    <tr style=\"text-align: right;\">\n",
              "      <th></th>\n",
              "      <th>is_promoted</th>\n",
              "    </tr>\n",
              "  </thead>\n",
              "  <tbody>\n",
              "    <tr>\n",
              "      <th>0</th>\n",
              "      <td>0</td>\n",
              "    </tr>\n",
              "    <tr>\n",
              "      <th>1</th>\n",
              "      <td>0</td>\n",
              "    </tr>\n",
              "    <tr>\n",
              "      <th>2</th>\n",
              "      <td>0</td>\n",
              "    </tr>\n",
              "    <tr>\n",
              "      <th>3</th>\n",
              "      <td>0</td>\n",
              "    </tr>\n",
              "    <tr>\n",
              "      <th>4</th>\n",
              "      <td>0</td>\n",
              "    </tr>\n",
              "  </tbody>\n",
              "</table>\n",
              "</div>\n",
              "      <button class=\"colab-df-convert\" onclick=\"convertToInteractive('df-d4c876af-372a-4344-95a2-95e2de4e3d50')\"\n",
              "              title=\"Convert this dataframe to an interactive table.\"\n",
              "              style=\"display:none;\">\n",
              "        \n",
              "  <svg xmlns=\"http://www.w3.org/2000/svg\" height=\"24px\"viewBox=\"0 0 24 24\"\n",
              "       width=\"24px\">\n",
              "    <path d=\"M0 0h24v24H0V0z\" fill=\"none\"/>\n",
              "    <path d=\"M18.56 5.44l.94 2.06.94-2.06 2.06-.94-2.06-.94-.94-2.06-.94 2.06-2.06.94zm-11 1L8.5 8.5l.94-2.06 2.06-.94-2.06-.94L8.5 2.5l-.94 2.06-2.06.94zm10 10l.94 2.06.94-2.06 2.06-.94-2.06-.94-.94-2.06-.94 2.06-2.06.94z\"/><path d=\"M17.41 7.96l-1.37-1.37c-.4-.4-.92-.59-1.43-.59-.52 0-1.04.2-1.43.59L10.3 9.45l-7.72 7.72c-.78.78-.78 2.05 0 2.83L4 21.41c.39.39.9.59 1.41.59.51 0 1.02-.2 1.41-.59l7.78-7.78 2.81-2.81c.8-.78.8-2.07 0-2.86zM5.41 20L4 18.59l7.72-7.72 1.47 1.35L5.41 20z\"/>\n",
              "  </svg>\n",
              "      </button>\n",
              "      \n",
              "  <style>\n",
              "    .colab-df-container {\n",
              "      display:flex;\n",
              "      flex-wrap:wrap;\n",
              "      gap: 12px;\n",
              "    }\n",
              "\n",
              "    .colab-df-convert {\n",
              "      background-color: #E8F0FE;\n",
              "      border: none;\n",
              "      border-radius: 50%;\n",
              "      cursor: pointer;\n",
              "      display: none;\n",
              "      fill: #1967D2;\n",
              "      height: 32px;\n",
              "      padding: 0 0 0 0;\n",
              "      width: 32px;\n",
              "    }\n",
              "\n",
              "    .colab-df-convert:hover {\n",
              "      background-color: #E2EBFA;\n",
              "      box-shadow: 0px 1px 2px rgba(60, 64, 67, 0.3), 0px 1px 3px 1px rgba(60, 64, 67, 0.15);\n",
              "      fill: #174EA6;\n",
              "    }\n",
              "\n",
              "    [theme=dark] .colab-df-convert {\n",
              "      background-color: #3B4455;\n",
              "      fill: #D2E3FC;\n",
              "    }\n",
              "\n",
              "    [theme=dark] .colab-df-convert:hover {\n",
              "      background-color: #434B5C;\n",
              "      box-shadow: 0px 1px 3px 1px rgba(0, 0, 0, 0.15);\n",
              "      filter: drop-shadow(0px 1px 2px rgba(0, 0, 0, 0.3));\n",
              "      fill: #FFFFFF;\n",
              "    }\n",
              "  </style>\n",
              "\n",
              "      <script>\n",
              "        const buttonEl =\n",
              "          document.querySelector('#df-d4c876af-372a-4344-95a2-95e2de4e3d50 button.colab-df-convert');\n",
              "        buttonEl.style.display =\n",
              "          google.colab.kernel.accessAllowed ? 'block' : 'none';\n",
              "\n",
              "        async function convertToInteractive(key) {\n",
              "          const element = document.querySelector('#df-d4c876af-372a-4344-95a2-95e2de4e3d50');\n",
              "          const dataTable =\n",
              "            await google.colab.kernel.invokeFunction('convertToInteractive',\n",
              "                                                     [key], {});\n",
              "          if (!dataTable) return;\n",
              "\n",
              "          const docLinkHtml = 'Like what you see? Visit the ' +\n",
              "            '<a target=\"_blank\" href=https://colab.research.google.com/notebooks/data_table.ipynb>data table notebook</a>'\n",
              "            + ' to learn more about interactive tables.';\n",
              "          element.innerHTML = '';\n",
              "          dataTable['output_type'] = 'display_data';\n",
              "          await google.colab.output.renderOutput(dataTable, element);\n",
              "          const docLink = document.createElement('div');\n",
              "          docLink.innerHTML = docLinkHtml;\n",
              "          element.appendChild(docLink);\n",
              "        }\n",
              "      </script>\n",
              "    </div>\n",
              "  </div>\n",
              "  "
            ]
          },
          "metadata": {},
          "execution_count": 38
        }
      ]
    },
    {
      "cell_type": "code",
      "source": [
        "df_mod = pd.concat([X, y], axis=1)\n",
        "df_mod"
      ],
      "metadata": {
        "colab": {
          "base_uri": "https://localhost:8080/",
          "height": 424
        },
        "id": "UHoQO1LEdGpg",
        "outputId": "7bf971b4-ca8f-4fec-cad0-b8411c38522e"
      },
      "execution_count": 39,
      "outputs": [
        {
          "output_type": "execute_result",
          "data": {
            "text/plain": [
              "              department         education gender recruitment_channel  \\\n",
              "0      Sales & Marketing  Master's & above      f            sourcing   \n",
              "1             Operations        Bachelor's      m               other   \n",
              "2      Sales & Marketing        Bachelor's      m            sourcing   \n",
              "3      Sales & Marketing        Bachelor's      m               other   \n",
              "4             Technology        Bachelor's      m               other   \n",
              "...                  ...               ...    ...                 ...   \n",
              "54803         Technology        Bachelor's      m            sourcing   \n",
              "54804         Operations  Master's & above      f               other   \n",
              "54805          Analytics        Bachelor's      m               other   \n",
              "54806  Sales & Marketing        Bachelor's      m            sourcing   \n",
              "54807                 HR        Bachelor's      m               other   \n",
              "\n",
              "       is_promoted  \n",
              "0                0  \n",
              "1                0  \n",
              "2                0  \n",
              "3                0  \n",
              "4                0  \n",
              "...            ...  \n",
              "54803            0  \n",
              "54804            0  \n",
              "54805            0  \n",
              "54806            0  \n",
              "54807            0  \n",
              "\n",
              "[54808 rows x 5 columns]"
            ],
            "text/html": [
              "\n",
              "  <div id=\"df-4f3ae1b8-42d4-46d0-822c-e9b5321d5370\">\n",
              "    <div class=\"colab-df-container\">\n",
              "      <div>\n",
              "<style scoped>\n",
              "    .dataframe tbody tr th:only-of-type {\n",
              "        vertical-align: middle;\n",
              "    }\n",
              "\n",
              "    .dataframe tbody tr th {\n",
              "        vertical-align: top;\n",
              "    }\n",
              "\n",
              "    .dataframe thead th {\n",
              "        text-align: right;\n",
              "    }\n",
              "</style>\n",
              "<table border=\"1\" class=\"dataframe\">\n",
              "  <thead>\n",
              "    <tr style=\"text-align: right;\">\n",
              "      <th></th>\n",
              "      <th>department</th>\n",
              "      <th>education</th>\n",
              "      <th>gender</th>\n",
              "      <th>recruitment_channel</th>\n",
              "      <th>is_promoted</th>\n",
              "    </tr>\n",
              "  </thead>\n",
              "  <tbody>\n",
              "    <tr>\n",
              "      <th>0</th>\n",
              "      <td>Sales &amp; Marketing</td>\n",
              "      <td>Master's &amp; above</td>\n",
              "      <td>f</td>\n",
              "      <td>sourcing</td>\n",
              "      <td>0</td>\n",
              "    </tr>\n",
              "    <tr>\n",
              "      <th>1</th>\n",
              "      <td>Operations</td>\n",
              "      <td>Bachelor's</td>\n",
              "      <td>m</td>\n",
              "      <td>other</td>\n",
              "      <td>0</td>\n",
              "    </tr>\n",
              "    <tr>\n",
              "      <th>2</th>\n",
              "      <td>Sales &amp; Marketing</td>\n",
              "      <td>Bachelor's</td>\n",
              "      <td>m</td>\n",
              "      <td>sourcing</td>\n",
              "      <td>0</td>\n",
              "    </tr>\n",
              "    <tr>\n",
              "      <th>3</th>\n",
              "      <td>Sales &amp; Marketing</td>\n",
              "      <td>Bachelor's</td>\n",
              "      <td>m</td>\n",
              "      <td>other</td>\n",
              "      <td>0</td>\n",
              "    </tr>\n",
              "    <tr>\n",
              "      <th>4</th>\n",
              "      <td>Technology</td>\n",
              "      <td>Bachelor's</td>\n",
              "      <td>m</td>\n",
              "      <td>other</td>\n",
              "      <td>0</td>\n",
              "    </tr>\n",
              "    <tr>\n",
              "      <th>...</th>\n",
              "      <td>...</td>\n",
              "      <td>...</td>\n",
              "      <td>...</td>\n",
              "      <td>...</td>\n",
              "      <td>...</td>\n",
              "    </tr>\n",
              "    <tr>\n",
              "      <th>54803</th>\n",
              "      <td>Technology</td>\n",
              "      <td>Bachelor's</td>\n",
              "      <td>m</td>\n",
              "      <td>sourcing</td>\n",
              "      <td>0</td>\n",
              "    </tr>\n",
              "    <tr>\n",
              "      <th>54804</th>\n",
              "      <td>Operations</td>\n",
              "      <td>Master's &amp; above</td>\n",
              "      <td>f</td>\n",
              "      <td>other</td>\n",
              "      <td>0</td>\n",
              "    </tr>\n",
              "    <tr>\n",
              "      <th>54805</th>\n",
              "      <td>Analytics</td>\n",
              "      <td>Bachelor's</td>\n",
              "      <td>m</td>\n",
              "      <td>other</td>\n",
              "      <td>0</td>\n",
              "    </tr>\n",
              "    <tr>\n",
              "      <th>54806</th>\n",
              "      <td>Sales &amp; Marketing</td>\n",
              "      <td>Bachelor's</td>\n",
              "      <td>m</td>\n",
              "      <td>sourcing</td>\n",
              "      <td>0</td>\n",
              "    </tr>\n",
              "    <tr>\n",
              "      <th>54807</th>\n",
              "      <td>HR</td>\n",
              "      <td>Bachelor's</td>\n",
              "      <td>m</td>\n",
              "      <td>other</td>\n",
              "      <td>0</td>\n",
              "    </tr>\n",
              "  </tbody>\n",
              "</table>\n",
              "<p>54808 rows × 5 columns</p>\n",
              "</div>\n",
              "      <button class=\"colab-df-convert\" onclick=\"convertToInteractive('df-4f3ae1b8-42d4-46d0-822c-e9b5321d5370')\"\n",
              "              title=\"Convert this dataframe to an interactive table.\"\n",
              "              style=\"display:none;\">\n",
              "        \n",
              "  <svg xmlns=\"http://www.w3.org/2000/svg\" height=\"24px\"viewBox=\"0 0 24 24\"\n",
              "       width=\"24px\">\n",
              "    <path d=\"M0 0h24v24H0V0z\" fill=\"none\"/>\n",
              "    <path d=\"M18.56 5.44l.94 2.06.94-2.06 2.06-.94-2.06-.94-.94-2.06-.94 2.06-2.06.94zm-11 1L8.5 8.5l.94-2.06 2.06-.94-2.06-.94L8.5 2.5l-.94 2.06-2.06.94zm10 10l.94 2.06.94-2.06 2.06-.94-2.06-.94-.94-2.06-.94 2.06-2.06.94z\"/><path d=\"M17.41 7.96l-1.37-1.37c-.4-.4-.92-.59-1.43-.59-.52 0-1.04.2-1.43.59L10.3 9.45l-7.72 7.72c-.78.78-.78 2.05 0 2.83L4 21.41c.39.39.9.59 1.41.59.51 0 1.02-.2 1.41-.59l7.78-7.78 2.81-2.81c.8-.78.8-2.07 0-2.86zM5.41 20L4 18.59l7.72-7.72 1.47 1.35L5.41 20z\"/>\n",
              "  </svg>\n",
              "      </button>\n",
              "      \n",
              "  <style>\n",
              "    .colab-df-container {\n",
              "      display:flex;\n",
              "      flex-wrap:wrap;\n",
              "      gap: 12px;\n",
              "    }\n",
              "\n",
              "    .colab-df-convert {\n",
              "      background-color: #E8F0FE;\n",
              "      border: none;\n",
              "      border-radius: 50%;\n",
              "      cursor: pointer;\n",
              "      display: none;\n",
              "      fill: #1967D2;\n",
              "      height: 32px;\n",
              "      padding: 0 0 0 0;\n",
              "      width: 32px;\n",
              "    }\n",
              "\n",
              "    .colab-df-convert:hover {\n",
              "      background-color: #E2EBFA;\n",
              "      box-shadow: 0px 1px 2px rgba(60, 64, 67, 0.3), 0px 1px 3px 1px rgba(60, 64, 67, 0.15);\n",
              "      fill: #174EA6;\n",
              "    }\n",
              "\n",
              "    [theme=dark] .colab-df-convert {\n",
              "      background-color: #3B4455;\n",
              "      fill: #D2E3FC;\n",
              "    }\n",
              "\n",
              "    [theme=dark] .colab-df-convert:hover {\n",
              "      background-color: #434B5C;\n",
              "      box-shadow: 0px 1px 3px 1px rgba(0, 0, 0, 0.15);\n",
              "      filter: drop-shadow(0px 1px 2px rgba(0, 0, 0, 0.3));\n",
              "      fill: #FFFFFF;\n",
              "    }\n",
              "  </style>\n",
              "\n",
              "      <script>\n",
              "        const buttonEl =\n",
              "          document.querySelector('#df-4f3ae1b8-42d4-46d0-822c-e9b5321d5370 button.colab-df-convert');\n",
              "        buttonEl.style.display =\n",
              "          google.colab.kernel.accessAllowed ? 'block' : 'none';\n",
              "\n",
              "        async function convertToInteractive(key) {\n",
              "          const element = document.querySelector('#df-4f3ae1b8-42d4-46d0-822c-e9b5321d5370');\n",
              "          const dataTable =\n",
              "            await google.colab.kernel.invokeFunction('convertToInteractive',\n",
              "                                                     [key], {});\n",
              "          if (!dataTable) return;\n",
              "\n",
              "          const docLinkHtml = 'Like what you see? Visit the ' +\n",
              "            '<a target=\"_blank\" href=https://colab.research.google.com/notebooks/data_table.ipynb>data table notebook</a>'\n",
              "            + ' to learn more about interactive tables.';\n",
              "          element.innerHTML = '';\n",
              "          dataTable['output_type'] = 'display_data';\n",
              "          await google.colab.output.renderOutput(dataTable, element);\n",
              "          const docLink = document.createElement('div');\n",
              "          docLink.innerHTML = docLinkHtml;\n",
              "          element.appendChild(docLink);\n",
              "        }\n",
              "      </script>\n",
              "    </div>\n",
              "  </div>\n",
              "  "
            ]
          },
          "metadata": {},
          "execution_count": 39
        }
      ]
    },
    {
      "cell_type": "code",
      "source": [
        "df_mod.shape"
      ],
      "metadata": {
        "colab": {
          "base_uri": "https://localhost:8080/"
        },
        "id": "iTJ4HFpvvwR4",
        "outputId": "078cfcd8-e8de-4d27-fcbd-ab88970f3053"
      },
      "execution_count": 40,
      "outputs": [
        {
          "output_type": "execute_result",
          "data": {
            "text/plain": [
              "(54808, 5)"
            ]
          },
          "metadata": {},
          "execution_count": 40
        }
      ]
    },
    {
      "cell_type": "code",
      "source": [
        "y.value_counts()"
      ],
      "metadata": {
        "colab": {
          "base_uri": "https://localhost:8080/"
        },
        "id": "tyVAnAdgj3V-",
        "outputId": "6d6c1777-fe9c-4ba8-87b2-764dce5e0436"
      },
      "execution_count": 41,
      "outputs": [
        {
          "output_type": "execute_result",
          "data": {
            "text/plain": [
              "is_promoted\n",
              "0              50140\n",
              "1               4668\n",
              "dtype: int64"
            ]
          },
          "metadata": {},
          "execution_count": 41
        }
      ]
    },
    {
      "cell_type": "code",
      "source": [
        "df.groupby('is_promoted').size().plot(kind='pie',\n",
        "                                       y = \"v1\",\n",
        "                                       label = \"Type\",\n",
        "                                       autopct='%1.1f%%')"
      ],
      "metadata": {
        "colab": {
          "base_uri": "https://localhost:8080/",
          "height": 265
        },
        "id": "uwjacHVNtqvP",
        "outputId": "9436247d-80d1-425d-ea51-a8e0eefa3c3e"
      },
      "execution_count": 42,
      "outputs": [
        {
          "output_type": "execute_result",
          "data": {
            "text/plain": [
              "<matplotlib.axes._subplots.AxesSubplot at 0x7f2d35040040>"
            ]
          },
          "metadata": {},
          "execution_count": 42
        },
        {
          "output_type": "display_data",
          "data": {
            "text/plain": [
              "<Figure size 432x288 with 1 Axes>"
            ],
            "image/png": "[encoded data removed]"
          },
          "metadata": {}
        }
      ]
    },
    {
      "cell_type": "markdown",
      "source": [
        "target data is imbalance."
      ],
      "metadata": {
        "id": "tsJ_8xXkkEHW"
      }
    },
    {
      "cell_type": "markdown",
      "source": [
        "#Feature Engineering"
      ],
      "metadata": {
        "id": "Z6KwbuhiiuZ_"
      }
    },
    {
      "cell_type": "code",
      "source": [
        "# Transformasi data\n",
        "\n",
        "FEATURE_CAT = ['gender', 'recruitment_channel']\n",
        "FEATURE_NUM = ['is_promoted']"
      ],
      "metadata": {
        "id": "ARttUtyDsP1s"
      },
      "execution_count": 43,
      "outputs": []
    },
    {
      "cell_type": "code",
      "source": [
        "# One hot encoding column 'gender', 'recruitment_channel'\n",
        "\n",
        "from sklearn.preprocessing import OneHotEncoder\n",
        "\n",
        "hot_encoder = OneHotEncoder(sparse=False)\n",
        "hot_encoder.fit(df_mod[FEATURE_CAT])"
      ],
      "metadata": {
        "colab": {
          "base_uri": "https://localhost:8080/"
        },
        "id": "cQ37LhJ2-ZQu",
        "outputId": "63d970a3-d6ab-428a-aa1c-e8b6f6e0ef65"
      },
      "execution_count": 44,
      "outputs": [
        {
          "output_type": "execute_result",
          "data": {
            "text/plain": [
              "OneHotEncoder(sparse=False)"
            ]
          },
          "metadata": {},
          "execution_count": 44
        }
      ]
    },
    {
      "cell_type": "code",
      "source": [
        "X_encode = hot_encoder.transform(df_mod[FEATURE_CAT])\n",
        "X_encode"
      ],
      "metadata": {
        "colab": {
          "base_uri": "https://localhost:8080/"
        },
        "id": "WfNCy0sJwcKX",
        "outputId": "0ee2410b-ca4d-4956-b1c8-d3faadf5c53a"
      },
      "execution_count": 45,
      "outputs": [
        {
          "output_type": "execute_result",
          "data": {
            "text/plain": [
              "array([[1., 0., 0., 0., 1.],\n",
              "       [0., 1., 1., 0., 0.],\n",
              "       [0., 1., 0., 0., 1.],\n",
              "       ...,\n",
              "       [0., 1., 1., 0., 0.],\n",
              "       [0., 1., 0., 0., 1.],\n",
              "       [0., 1., 1., 0., 0.]])"
            ]
          },
          "metadata": {},
          "execution_count": 45
        }
      ]
    },
    {
      "cell_type": "code",
      "source": [
        "# Label encoding 'department', 'education' column\n",
        "\n",
        "from sklearn.preprocessing import LabelEncoder\n",
        "\n",
        "le = LabelEncoder()\n",
        "department, education = le.fit_transform(df_mod['department']), le.fit_transform(df_mod['education'])\n",
        "department, education = department.reshape(-1, 1), education.reshape(-1, 1)\n",
        "department, education"
      ],
      "metadata": {
        "id": "D_C5n9fmuDcz",
        "colab": {
          "base_uri": "https://localhost:8080/"
        },
        "outputId": "02012dd9-572b-461f-a05b-d4ab85f851ac"
      },
      "execution_count": 46,
      "outputs": [
        {
          "output_type": "execute_result",
          "data": {
            "text/plain": [
              "(array([[7],\n",
              "        [4],\n",
              "        [7],\n",
              "        ...,\n",
              "        [0],\n",
              "        [7],\n",
              "        [2]]), array([[2],\n",
              "        [0],\n",
              "        [0],\n",
              "        ...,\n",
              "        [0],\n",
              "        [0],\n",
              "        [0]]))"
            ]
          },
          "metadata": {},
          "execution_count": 46
        }
      ]
    },
    {
      "cell_type": "code",
      "source": [
        "X_encoded = np.column_stack([department, education, X_encode,])\n",
        "X_encoded"
      ],
      "metadata": {
        "colab": {
          "base_uri": "https://localhost:8080/"
        },
        "id": "4yRLTsnoAs_Z",
        "outputId": "916c9ac8-5ae9-427c-ed3a-ca3962f487e8"
      },
      "execution_count": 47,
      "outputs": [
        {
          "output_type": "execute_result",
          "data": {
            "text/plain": [
              "array([[7., 2., 1., ..., 0., 0., 1.],\n",
              "       [4., 0., 0., ..., 1., 0., 0.],\n",
              "       [7., 0., 0., ..., 0., 0., 1.],\n",
              "       ...,\n",
              "       [0., 0., 0., ..., 1., 0., 0.],\n",
              "       [7., 0., 0., ..., 0., 0., 1.],\n",
              "       [2., 0., 0., ..., 1., 0., 0.]])"
            ]
          },
          "metadata": {},
          "execution_count": 47
        }
      ]
    },
    {
      "cell_type": "code",
      "source": [
        "X_encoded.shape"
      ],
      "metadata": {
        "colab": {
          "base_uri": "https://localhost:8080/"
        },
        "id": "aQTaR26GB5T8",
        "outputId": "799009a8-1710-45ed-a10e-198b39be7610"
      },
      "execution_count": 48,
      "outputs": [
        {
          "output_type": "execute_result",
          "data": {
            "text/plain": [
              "(54808, 7)"
            ]
          },
          "metadata": {},
          "execution_count": 48
        }
      ]
    },
    {
      "cell_type": "code",
      "source": [
        "# Split data training dan data testing\n",
        "\n",
        "from sklearn.model_selection import train_test_split\n",
        "\n",
        "X_train, X_test, y_train, y_test = train_test_split(X_encoded, y, test_size=0.2, stratify=y, random_state=42)"
      ],
      "metadata": {
        "id": "ydBpfSuZi1R-"
      },
      "execution_count": 49,
      "outputs": []
    },
    {
      "cell_type": "code",
      "source": [
        "print(\"Shape of X-train:\", X_train.shape)\n",
        "print(\"Shape of X-test:\", X_test.shape)\n",
        "print(\"Shape of y-train: \\n\", np.unique(y_train, return_counts=True))\n",
        "print(\"Shape of y-test: \\n\", np.unique(y_test, return_counts=True))"
      ],
      "metadata": {
        "colab": {
          "base_uri": "https://localhost:8080/"
        },
        "id": "lhQF0WaHkrwM",
        "outputId": "57b5d393-7a28-4b1b-f96b-f8404846399e"
      },
      "execution_count": 50,
      "outputs": [
        {
          "output_type": "stream",
          "name": "stdout",
          "text": [
            "Shape of X-train: (43846, 7)\n",
            "Shape of X-test: (10962, 7)\n",
            "Shape of y-train: \n",
            " (array([0, 1]), array([40112,  3734]))\n",
            "Shape of y-test: \n",
            " (array([0, 1]), array([10028,   934]))\n"
          ]
        }
      ]
    },
    {
      "cell_type": "markdown",
      "source": [
        "# Build Model"
      ],
      "metadata": {
        "id": "S23dil4COYDg"
      }
    },
    {
      "cell_type": "code",
      "source": [
        "import tensorflow as tf"
      ],
      "metadata": {
        "id": "TiW4fSy9uY7F"
      },
      "execution_count": 51,
      "outputs": []
    },
    {
      "cell_type": "code",
      "source": [
        "model = tf.keras.models.Sequential()"
      ],
      "metadata": {
        "id": "UVJv8Kw2vVpP"
      },
      "execution_count": 80,
      "outputs": []
    },
    {
      "cell_type": "code",
      "source": [
        "# ANN architecture\n",
        "\n",
        "model.add(tf.keras.layers.Dense(units=10, activation='relu'))\n",
        "model.add(tf.keras.layers.Dense(units=10, activation='relu'))\n",
        "model.add(tf.keras.layers.Dense(units=1, activation='sigmoid'))"
      ],
      "metadata": {
        "id": "stIycg00cMLz"
      },
      "execution_count": 81,
      "outputs": []
    },
    {
      "cell_type": "code",
      "source": [
        "# Compiling ANN\n",
        "\n",
        "model.compile(optimizer='RMSprop', loss='binary_crossentropy', metrics=['accuracy'])"
      ],
      "metadata": {
        "id": "5pjXG6GCcQEq"
      },
      "execution_count": 82,
      "outputs": []
    },
    {
      "cell_type": "code",
      "source": [
        "# Train model before handling imbalanca data\n",
        "\n",
        "model.fit(X_train, y_train, batch_size=42, epochs=100)"
      ],
      "metadata": {
        "colab": {
          "base_uri": "https://localhost:8080/"
        },
        "id": "GjWY8cGwWsNp",
        "outputId": "9295c86c-7756-4c48-9fad-3af7c1becad6"
      },
      "execution_count": 55,
      "outputs": [
        {
          "output_type": "stream",
          "name": "stdout",
          "text": [
            "Epoch 1/100\n",
            "1044/1044 [==============================] - 3s 2ms/step - loss: 0.3198 - accuracy: 0.9025\n",
            "Epoch 2/100\n",
            "1044/1044 [==============================] - 2s 2ms/step - loss: 0.2918 - accuracy: 0.9148\n",
            "Epoch 3/100\n",
            "1044/1044 [==============================] - 3s 3ms/step - loss: 0.2911 - accuracy: 0.9148\n",
            "Epoch 4/100\n",
            "1044/1044 [==============================] - 2s 2ms/step - loss: 0.2911 - accuracy: 0.9148\n",
            "Epoch 5/100\n",
            "1044/1044 [==============================] - 2s 2ms/step - loss: 0.2911 - accuracy: 0.9148\n",
            "Epoch 6/100\n",
            "1044/1044 [==============================] - 2s 2ms/step - loss: 0.2913 - accuracy: 0.9148\n",
            "Epoch 7/100\n",
            "1044/1044 [==============================] - 2s 2ms/step - loss: 0.2910 - accuracy: 0.9148\n",
            "Epoch 8/100\n",
            "1044/1044 [==============================] - 3s 3ms/step - loss: 0.2911 - accuracy: 0.9148\n",
            "Epoch 9/100\n",
            "1044/1044 [==============================] - 2s 2ms/step - loss: 0.2911 - accuracy: 0.9148\n",
            "Epoch 10/100\n",
            "1044/1044 [==============================] - 2s 2ms/step - loss: 0.2910 - accuracy: 0.9148\n",
            "Epoch 11/100\n",
            "1044/1044 [==============================] - 3s 3ms/step - loss: 0.2910 - accuracy: 0.9148\n",
            "Epoch 12/100\n",
            "1044/1044 [==============================] - 3s 3ms/step - loss: 0.2911 - accuracy: 0.9148\n",
            "Epoch 13/100\n",
            "1044/1044 [==============================] - 3s 3ms/step - loss: 0.2911 - accuracy: 0.9148\n",
            "Epoch 14/100\n",
            "1044/1044 [==============================] - 5s 5ms/step - loss: 0.2912 - accuracy: 0.9148\n",
            "Epoch 15/100\n",
            "1044/1044 [==============================] - 2s 2ms/step - loss: 0.2912 - accuracy: 0.9148\n",
            "Epoch 16/100\n",
            "1044/1044 [==============================] - 2s 2ms/step - loss: 0.2911 - accuracy: 0.9148\n",
            "Epoch 17/100\n",
            "1044/1044 [==============================] - 2s 2ms/step - loss: 0.2913 - accuracy: 0.9148\n",
            "Epoch 18/100\n",
            "1044/1044 [==============================] - 3s 3ms/step - loss: 0.2911 - accuracy: 0.9148\n",
            "Epoch 19/100\n",
            "1044/1044 [==============================] - 2s 2ms/step - loss: 0.2911 - accuracy: 0.9148\n",
            "Epoch 20/100\n",
            "1044/1044 [==============================] - 2s 2ms/step - loss: 0.2913 - accuracy: 0.9148\n",
            "Epoch 21/100\n",
            "1044/1044 [==============================] - 2s 2ms/step - loss: 0.2912 - accuracy: 0.9148\n",
            "Epoch 22/100\n",
            "1044/1044 [==============================] - 2s 2ms/step - loss: 0.2912 - accuracy: 0.9148\n",
            "Epoch 23/100\n",
            "1044/1044 [==============================] - 2s 2ms/step - loss: 0.2913 - accuracy: 0.9148\n",
            "Epoch 24/100\n",
            "1044/1044 [==============================] - 3s 3ms/step - loss: 0.2913 - accuracy: 0.9148\n",
            "Epoch 25/100\n",
            "1044/1044 [==============================] - 2s 2ms/step - loss: 0.2913 - accuracy: 0.9148\n",
            "Epoch 26/100\n",
            "1044/1044 [==============================] - 2s 2ms/step - loss: 0.2914 - accuracy: 0.9148\n",
            "Epoch 27/100\n",
            "1044/1044 [==============================] - 2s 2ms/step - loss: 0.2913 - accuracy: 0.9148\n",
            "Epoch 28/100\n",
            "1044/1044 [==============================] - 2s 2ms/step - loss: 0.2914 - accuracy: 0.9148\n",
            "Epoch 29/100\n",
            "1044/1044 [==============================] - 3s 3ms/step - loss: 0.2911 - accuracy: 0.9148\n",
            "Epoch 30/100\n",
            "1044/1044 [==============================] - 2s 2ms/step - loss: 0.2912 - accuracy: 0.9148\n",
            "Epoch 31/100\n",
            "1044/1044 [==============================] - 2s 2ms/step - loss: 0.2912 - accuracy: 0.9148\n",
            "Epoch 32/100\n",
            "1044/1044 [==============================] - 2s 2ms/step - loss: 0.2912 - accuracy: 0.9148\n",
            "Epoch 33/100\n",
            "1044/1044 [==============================] - 2s 2ms/step - loss: 0.2913 - accuracy: 0.9148\n",
            "Epoch 34/100\n",
            "1044/1044 [==============================] - 2s 2ms/step - loss: 0.2914 - accuracy: 0.9148\n",
            "Epoch 35/100\n",
            "1044/1044 [==============================] - 3s 3ms/step - loss: 0.2914 - accuracy: 0.9148\n",
            "Epoch 36/100\n",
            "1044/1044 [==============================] - 2s 2ms/step - loss: 0.2914 - accuracy: 0.9148\n",
            "Epoch 37/100\n",
            "1044/1044 [==============================] - 2s 2ms/step - loss: 0.2913 - accuracy: 0.9148\n",
            "Epoch 38/100\n",
            "1044/1044 [==============================] - 2s 2ms/step - loss: 0.2914 - accuracy: 0.9148\n",
            "Epoch 39/100\n",
            "1044/1044 [==============================] - 2s 2ms/step - loss: 0.2916 - accuracy: 0.9148\n",
            "Epoch 40/100\n",
            "1044/1044 [==============================] - 2s 2ms/step - loss: 0.2914 - accuracy: 0.9148\n",
            "Epoch 41/100\n",
            "1044/1044 [==============================] - 3s 3ms/step - loss: 0.2912 - accuracy: 0.9148\n",
            "Epoch 42/100\n",
            "1044/1044 [==============================] - 2s 2ms/step - loss: 0.2914 - accuracy: 0.9148\n",
            "Epoch 43/100\n",
            "1044/1044 [==============================] - 2s 2ms/step - loss: 0.2915 - accuracy: 0.9148\n",
            "Epoch 44/100\n",
            "1044/1044 [==============================] - 2s 2ms/step - loss: 0.2916 - accuracy: 0.9148\n",
            "Epoch 45/100\n",
            "1044/1044 [==============================] - 2s 2ms/step - loss: 0.2918 - accuracy: 0.9148\n",
            "Epoch 46/100\n",
            "1044/1044 [==============================] - 3s 3ms/step - loss: 0.2915 - accuracy: 0.9148\n",
            "Epoch 47/100\n",
            "1044/1044 [==============================] - 2s 2ms/step - loss: 0.2914 - accuracy: 0.9148\n",
            "Epoch 48/100\n",
            "1044/1044 [==============================] - 2s 2ms/step - loss: 0.2916 - accuracy: 0.9148\n",
            "Epoch 49/100\n",
            "1044/1044 [==============================] - 2s 2ms/step - loss: 0.2915 - accuracy: 0.9148\n",
            "Epoch 50/100\n",
            "1044/1044 [==============================] - 2s 2ms/step - loss: 0.2916 - accuracy: 0.9148\n",
            "Epoch 51/100\n",
            "1044/1044 [==============================] - 2s 2ms/step - loss: 0.2915 - accuracy: 0.9148\n",
            "Epoch 52/100\n",
            "1044/1044 [==============================] - 3s 3ms/step - loss: 0.2916 - accuracy: 0.9148\n",
            "Epoch 53/100\n",
            "1044/1044 [==============================] - 2s 2ms/step - loss: 0.2912 - accuracy: 0.9148\n",
            "Epoch 54/100\n",
            "1044/1044 [==============================] - 2s 2ms/step - loss: 0.2915 - accuracy: 0.9148\n",
            "Epoch 55/100\n",
            "1044/1044 [==============================] - 2s 2ms/step - loss: 0.2916 - accuracy: 0.9148\n",
            "Epoch 56/100\n",
            "1044/1044 [==============================] - 2s 2ms/step - loss: 0.2915 - accuracy: 0.9148\n",
            "Epoch 57/100\n",
            "1044/1044 [==============================] - 4s 4ms/step - loss: 0.2916 - accuracy: 0.9148\n",
            "Epoch 58/100\n",
            "1044/1044 [==============================] - 3s 3ms/step - loss: 0.2916 - accuracy: 0.9148\n",
            "Epoch 59/100\n",
            "1044/1044 [==============================] - 3s 3ms/step - loss: 0.2916 - accuracy: 0.9148\n",
            "Epoch 60/100\n",
            "1044/1044 [==============================] - 2s 2ms/step - loss: 0.2915 - accuracy: 0.9148\n",
            "Epoch 61/100\n",
            "1044/1044 [==============================] - 2s 2ms/step - loss: 0.2919 - accuracy: 0.9148\n",
            "Epoch 62/100\n",
            "1044/1044 [==============================] - 3s 3ms/step - loss: 0.2915 - accuracy: 0.9148\n",
            "Epoch 63/100\n",
            "1044/1044 [==============================] - 2s 2ms/step - loss: 0.2915 - accuracy: 0.9148\n",
            "Epoch 64/100\n",
            "1044/1044 [==============================] - 2s 2ms/step - loss: 0.2915 - accuracy: 0.9148\n",
            "Epoch 65/100\n",
            "1044/1044 [==============================] - 2s 2ms/step - loss: 0.2917 - accuracy: 0.9148\n",
            "Epoch 66/100\n",
            "1044/1044 [==============================] - 2s 2ms/step - loss: 0.2915 - accuracy: 0.9148\n",
            "Epoch 67/100\n",
            "1044/1044 [==============================] - 3s 3ms/step - loss: 0.2916 - accuracy: 0.9148\n",
            "Epoch 68/100\n",
            "1044/1044 [==============================] - 2s 2ms/step - loss: 0.2917 - accuracy: 0.9148\n",
            "Epoch 69/100\n",
            "1044/1044 [==============================] - 2s 2ms/step - loss: 0.2917 - accuracy: 0.9148\n",
            "Epoch 70/100\n",
            "1044/1044 [==============================] - 2s 2ms/step - loss: 0.2916 - accuracy: 0.9148\n",
            "Epoch 71/100\n",
            "1044/1044 [==============================] - 2s 2ms/step - loss: 0.2916 - accuracy: 0.9148\n",
            "Epoch 72/100\n",
            "1044/1044 [==============================] - 3s 2ms/step - loss: 0.2917 - accuracy: 0.9148\n",
            "Epoch 73/100\n",
            "1044/1044 [==============================] - 3s 3ms/step - loss: 0.2915 - accuracy: 0.9148\n",
            "Epoch 74/100\n",
            "1044/1044 [==============================] - 2s 2ms/step - loss: 0.2916 - accuracy: 0.9148\n",
            "Epoch 75/100\n",
            "1044/1044 [==============================] - 2s 2ms/step - loss: 0.2917 - accuracy: 0.9148\n",
            "Epoch 76/100\n",
            "1044/1044 [==============================] - 2s 2ms/step - loss: 0.2918 - accuracy: 0.9148\n",
            "Epoch 77/100\n",
            "1044/1044 [==============================] - 2s 2ms/step - loss: 0.2915 - accuracy: 0.9148\n",
            "Epoch 78/100\n",
            "1044/1044 [==============================] - 3s 3ms/step - loss: 0.2916 - accuracy: 0.9148\n",
            "Epoch 79/100\n",
            "1044/1044 [==============================] - 2s 2ms/step - loss: 0.2916 - accuracy: 0.9148\n",
            "Epoch 80/100\n",
            "1044/1044 [==============================] - 2s 2ms/step - loss: 0.2917 - accuracy: 0.9148\n",
            "Epoch 81/100\n",
            "1044/1044 [==============================] - 2s 2ms/step - loss: 0.2915 - accuracy: 0.9148\n",
            "Epoch 82/100\n",
            "1044/1044 [==============================] - 2s 2ms/step - loss: 0.2917 - accuracy: 0.9148\n",
            "Epoch 83/100\n",
            "1044/1044 [==============================] - 3s 3ms/step - loss: 0.2915 - accuracy: 0.9148\n",
            "Epoch 84/100\n",
            "1044/1044 [==============================] - 3s 2ms/step - loss: 0.2914 - accuracy: 0.9148\n",
            "Epoch 85/100\n",
            "1044/1044 [==============================] - 2s 2ms/step - loss: 0.2916 - accuracy: 0.9148\n",
            "Epoch 86/100\n",
            "1044/1044 [==============================] - 2s 2ms/step - loss: 0.2916 - accuracy: 0.9148\n",
            "Epoch 87/100\n",
            "1044/1044 [==============================] - 2s 2ms/step - loss: 0.2917 - accuracy: 0.9148\n",
            "Epoch 88/100\n",
            "1044/1044 [==============================] - 2s 2ms/step - loss: 0.2916 - accuracy: 0.9148\n",
            "Epoch 89/100\n",
            "1044/1044 [==============================] - 3s 3ms/step - loss: 0.2916 - accuracy: 0.9148\n",
            "Epoch 90/100\n",
            "1044/1044 [==============================] - 2s 2ms/step - loss: 0.2917 - accuracy: 0.9148\n",
            "Epoch 91/100\n",
            "1044/1044 [==============================] - 2s 2ms/step - loss: 0.2916 - accuracy: 0.9148\n",
            "Epoch 92/100\n",
            "1044/1044 [==============================] - 2s 2ms/step - loss: 0.2917 - accuracy: 0.9148\n",
            "Epoch 93/100\n",
            "1044/1044 [==============================] - 2s 2ms/step - loss: 0.2917 - accuracy: 0.9148\n",
            "Epoch 94/100\n",
            "1044/1044 [==============================] - 3s 3ms/step - loss: 0.2917 - accuracy: 0.9148\n",
            "Epoch 95/100\n",
            "1044/1044 [==============================] - 3s 3ms/step - loss: 0.2917 - accuracy: 0.9148\n",
            "Epoch 96/100\n",
            "1044/1044 [==============================] - 2s 2ms/step - loss: 0.2916 - accuracy: 0.9148\n",
            "Epoch 97/100\n",
            "1044/1044 [==============================] - 2s 2ms/step - loss: 0.2913 - accuracy: 0.9148\n",
            "Epoch 98/100\n",
            "1044/1044 [==============================] - 2s 2ms/step - loss: 0.2916 - accuracy: 0.9148\n",
            "Epoch 99/100\n",
            "1044/1044 [==============================] - 2s 2ms/step - loss: 0.2918 - accuracy: 0.9148\n",
            "Epoch 100/100\n",
            "1044/1044 [==============================] - 3s 3ms/step - loss: 0.2917 - accuracy: 0.9148\n"
          ]
        },
        {
          "output_type": "execute_result",
          "data": {
            "text/plain": [
              "<keras.callbacks.History at 0x7f2ccd308880>"
            ]
          },
          "metadata": {},
          "execution_count": 55
        }
      ]
    },
    {
      "cell_type": "markdown",
      "source": [
        "# Evaluation"
      ],
      "metadata": {
        "id": "BKmbsS-vgj5Y"
      }
    },
    {
      "cell_type": "code",
      "source": [
        "from sklearn.metrics import classification_report, confusion_matrix, roc_auc_score"
      ],
      "metadata": {
        "id": "19iCAezsIJav"
      },
      "execution_count": 56,
      "outputs": []
    },
    {
      "cell_type": "code",
      "source": [
        "# Prediction before handling imbalance dataset\n",
        "\n",
        "prediction0 = model.predict(X_test)\n",
        "prediction0_class = [1 if i>0.5 else 0 for i in prediction0]\n",
        "\n",
        "# Model performance\n",
        "print(classification_report(y_test, prediction0_class))"
      ],
      "metadata": {
        "colab": {
          "base_uri": "https://localhost:8080/"
        },
        "id": "Eysw8PdAX9nW",
        "outputId": "e9ce616c-b730-4bea-c668-36ea545b8946"
      },
      "execution_count": 57,
      "outputs": [
        {
          "output_type": "stream",
          "name": "stdout",
          "text": [
            "343/343 [==============================] - 2s 4ms/step\n",
            "              precision    recall  f1-score   support\n",
            "\n",
            "           0       0.91      1.00      0.96     10028\n",
            "           1       0.00      0.00      0.00       934\n",
            "\n",
            "    accuracy                           0.91     10962\n",
            "   macro avg       0.46      0.50      0.48     10962\n",
            "weighted avg       0.84      0.91      0.87     10962\n",
            "\n"
          ]
        },
        {
          "output_type": "stream",
          "name": "stderr",
          "text": [
            "/usr/local/lib/python3.8/dist-packages/sklearn/metrics/_classification.py:1318: UndefinedMetricWarning: Precision and F-score are ill-defined and being set to 0.0 in labels with no predicted samples. Use `zero_division` parameter to control this behavior.\n",
            "  _warn_prf(average, modifier, msg_start, len(result))\n",
            "/usr/local/lib/python3.8/dist-packages/sklearn/metrics/_classification.py:1318: UndefinedMetricWarning: Precision and F-score are ill-defined and being set to 0.0 in labels with no predicted samples. Use `zero_division` parameter to control this behavior.\n",
            "  _warn_prf(average, modifier, msg_start, len(result))\n",
            "/usr/local/lib/python3.8/dist-packages/sklearn/metrics/_classification.py:1318: UndefinedMetricWarning: Precision and F-score are ill-defined and being set to 0.0 in labels with no predicted samples. Use `zero_division` parameter to control this behavior.\n",
            "  _warn_prf(average, modifier, msg_start, len(result))\n"
          ]
        }
      ]
    },
    {
      "cell_type": "code",
      "source": [
        "# Check the ROC/AUC value\n",
        "\n",
        "print(f'The ROC/AUC value is {roc_auc_score(y_test, prediction0_class):.3f}.')"
      ],
      "metadata": {
        "colab": {
          "base_uri": "https://localhost:8080/"
        },
        "id": "dXkbghRnYeDC",
        "outputId": "5bec23df-1de2-4a41-8ebd-dba4d8ebc244"
      },
      "execution_count": 58,
      "outputs": [
        {
          "output_type": "stream",
          "name": "stdout",
          "text": [
            "The ROC/AUC value is 0.500.\n"
          ]
        }
      ]
    },
    {
      "cell_type": "code",
      "source": [
        "# Confusion matrix\n",
        "\n",
        "confusion_matrix(y_test, prediction0_class)"
      ],
      "metadata": {
        "colab": {
          "base_uri": "https://localhost:8080/"
        },
        "id": "Hr1wRucKYmZj",
        "outputId": "fc895bd7-ecc2-4846-bc4f-d15f40b7f1de"
      },
      "execution_count": 59,
      "outputs": [
        {
          "output_type": "execute_result",
          "data": {
            "text/plain": [
              "array([[10028,     0],\n",
              "       [  934,     0]])"
            ]
          },
          "metadata": {},
          "execution_count": 59
        }
      ]
    },
    {
      "cell_type": "code",
      "source": [
        "f, ax = plt.subplots(figsize=(8,5))\n",
        "sns.heatmap(confusion_matrix(y_test, prediction0_class), annot=True, fmt=\".0f\", ax=ax)\n",
        "plt.xlabel(\"y_predic\")\n",
        "plt.ylabel(\"y_true\")\n",
        "plt.show()"
      ],
      "metadata": {
        "colab": {
          "base_uri": "https://localhost:8080/",
          "height": 338
        },
        "id": "UM6yx4waYrfz",
        "outputId": "e93b9401-f714-483b-c7db-52fb798d59d7"
      },
      "execution_count": 60,
      "outputs": [
        {
          "output_type": "display_data",
          "data": {
            "text/plain": [
              "<Figure size 576x360 with 2 Axes>"
            ],
            "image/png": "[encoded data removed]"
          },
          "metadata": {
            "needs_background": "light"
          }
        }
      ]
    },
    {
      "cell_type": "markdown",
      "source": [
        "The model only recognizes class 0"
      ],
      "metadata": {
        "id": "SZql830-Y3B3"
      }
    },
    {
      "cell_type": "markdown",
      "source": [
        "# Handling Imbalance Dataset"
      ],
      "metadata": {
        "id": "VzPVoi_L9Vyq"
      }
    },
    {
      "cell_type": "code",
      "source": [
        "# Define weights for handling imbalance dataset, where class 0 around by 10 times class 1\n",
        "\n",
        "weights_asigned = {0:1, 1:10}"
      ],
      "metadata": {
        "id": "pG4Q9ns9OasE"
      },
      "execution_count": 83,
      "outputs": []
    },
    {
      "cell_type": "code",
      "source": [
        "# Training model\n",
        "\n",
        "model.fit(X_train, y_train, batch_size=42, epochs=100, class_weight=weights_asigned)"
      ],
      "metadata": {
        "colab": {
          "base_uri": "https://localhost:8080/"
        },
        "id": "gB2JMJ3cQtBb",
        "outputId": "51df6430-fd18-4de0-b13c-679bb7f2af94"
      },
      "execution_count": 84,
      "outputs": [
        {
          "output_type": "stream",
          "name": "stdout",
          "text": [
            "Epoch 1/100\n",
            "1044/1044 [==============================] - 3s 2ms/step - loss: 1.2278 - accuracy: 0.6782\n",
            "Epoch 2/100\n",
            "1044/1044 [==============================] - 3s 3ms/step - loss: 1.2233 - accuracy: 0.8224\n",
            "Epoch 3/100\n",
            "1044/1044 [==============================] - 3s 3ms/step - loss: 1.2235 - accuracy: 0.8484\n",
            "Epoch 4/100\n",
            "1044/1044 [==============================] - 3s 3ms/step - loss: 1.2222 - accuracy: 0.7547\n",
            "Epoch 5/100\n",
            "1044/1044 [==============================] - 2s 2ms/step - loss: 1.2217 - accuracy: 0.7451\n",
            "Epoch 6/100\n",
            "1044/1044 [==============================] - 2s 2ms/step - loss: 1.2215 - accuracy: 0.7514\n",
            "Epoch 7/100\n",
            "1044/1044 [==============================] - 2s 2ms/step - loss: 1.2215 - accuracy: 0.7363\n",
            "Epoch 8/100\n",
            "1044/1044 [==============================] - 3s 3ms/step - loss: 1.2222 - accuracy: 0.7630\n",
            "Epoch 9/100\n",
            "1044/1044 [==============================] - 3s 3ms/step - loss: 1.2215 - accuracy: 0.7536\n",
            "Epoch 10/100\n",
            "1044/1044 [==============================] - 3s 2ms/step - loss: 1.2217 - accuracy: 0.7760\n",
            "Epoch 11/100\n",
            "1044/1044 [==============================] - 2s 2ms/step - loss: 1.2214 - accuracy: 0.7587\n",
            "Epoch 12/100\n",
            "1044/1044 [==============================] - 2s 2ms/step - loss: 1.2212 - accuracy: 0.7698\n",
            "Epoch 13/100\n",
            "1044/1044 [==============================] - 3s 3ms/step - loss: 1.2216 - accuracy: 0.7730\n",
            "Epoch 14/100\n",
            "1044/1044 [==============================] - 2s 2ms/step - loss: 1.2213 - accuracy: 0.7863\n",
            "Epoch 15/100\n",
            "1044/1044 [==============================] - 2s 2ms/step - loss: 1.2215 - accuracy: 0.7611\n",
            "Epoch 16/100\n",
            "1044/1044 [==============================] - 2s 2ms/step - loss: 1.2211 - accuracy: 0.7792\n",
            "Epoch 17/100\n",
            "1044/1044 [==============================] - 2s 2ms/step - loss: 1.2213 - accuracy: 0.7602\n",
            "Epoch 18/100\n",
            "1044/1044 [==============================] - 3s 3ms/step - loss: 1.2211 - accuracy: 0.7765\n",
            "Epoch 19/100\n",
            "1044/1044 [==============================] - 3s 2ms/step - loss: 1.2208 - accuracy: 0.7717\n",
            "Epoch 20/100\n",
            "1044/1044 [==============================] - 2s 2ms/step - loss: 1.2211 - accuracy: 0.7668\n",
            "Epoch 21/100\n",
            "1044/1044 [==============================] - 2s 2ms/step - loss: 1.2209 - accuracy: 0.7626\n",
            "Epoch 22/100\n",
            "1044/1044 [==============================] - 2s 2ms/step - loss: 1.2205 - accuracy: 0.7550\n",
            "Epoch 23/100\n",
            "1044/1044 [==============================] - 3s 3ms/step - loss: 1.2212 - accuracy: 0.7717\n",
            "Epoch 24/100\n",
            "1044/1044 [==============================] - 3s 3ms/step - loss: 1.2206 - accuracy: 0.7731\n",
            "Epoch 25/100\n",
            "1044/1044 [==============================] - 2s 2ms/step - loss: 1.2211 - accuracy: 0.7685\n",
            "Epoch 26/100\n",
            "1044/1044 [==============================] - 2s 2ms/step - loss: 1.2206 - accuracy: 0.7715\n",
            "Epoch 27/100\n",
            "1044/1044 [==============================] - 2s 2ms/step - loss: 1.2206 - accuracy: 0.7689\n",
            "Epoch 28/100\n",
            "1044/1044 [==============================] - 3s 3ms/step - loss: 1.2207 - accuracy: 0.7721\n",
            "Epoch 29/100\n",
            "1044/1044 [==============================] - 3s 3ms/step - loss: 1.2206 - accuracy: 0.7709\n",
            "Epoch 30/100\n",
            "1044/1044 [==============================] - 2s 2ms/step - loss: 1.2206 - accuracy: 0.7557\n",
            "Epoch 31/100\n",
            "1044/1044 [==============================] - 2s 2ms/step - loss: 1.2208 - accuracy: 0.7722\n",
            "Epoch 32/100\n",
            "1044/1044 [==============================] - 2s 2ms/step - loss: 1.2200 - accuracy: 0.7583\n",
            "Epoch 33/100\n",
            "1044/1044 [==============================] - 3s 2ms/step - loss: 1.2211 - accuracy: 0.7736\n",
            "Epoch 34/100\n",
            "1044/1044 [==============================] - 4s 4ms/step - loss: 1.2204 - accuracy: 0.7594\n",
            "Epoch 35/100\n",
            "1044/1044 [==============================] - 4s 4ms/step - loss: 1.2209 - accuracy: 0.7753\n",
            "Epoch 36/100\n",
            "1044/1044 [==============================] - 4s 4ms/step - loss: 1.2212 - accuracy: 0.7646\n",
            "Epoch 37/100\n",
            "1044/1044 [==============================] - 4s 4ms/step - loss: 1.2206 - accuracy: 0.7725\n",
            "Epoch 38/100\n",
            "1044/1044 [==============================] - 3s 3ms/step - loss: 1.2211 - accuracy: 0.7701\n",
            "Epoch 39/100\n",
            "1044/1044 [==============================] - 4s 4ms/step - loss: 1.2211 - accuracy: 0.7618\n",
            "Epoch 40/100\n",
            "1044/1044 [==============================] - 4s 4ms/step - loss: 1.2212 - accuracy: 0.7608\n",
            "Epoch 41/100\n",
            "1044/1044 [==============================] - 4s 4ms/step - loss: 1.2206 - accuracy: 0.7494\n",
            "Epoch 42/100\n",
            "1044/1044 [==============================] - 2s 2ms/step - loss: 1.2210 - accuracy: 0.7564\n",
            "Epoch 43/100\n",
            "1044/1044 [==============================] - 2s 2ms/step - loss: 1.2210 - accuracy: 0.7609\n",
            "Epoch 44/100\n",
            "1044/1044 [==============================] - 2s 2ms/step - loss: 1.2206 - accuracy: 0.7445\n",
            "Epoch 45/100\n",
            "1044/1044 [==============================] - 3s 3ms/step - loss: 1.2203 - accuracy: 0.7594\n",
            "Epoch 46/100\n",
            "1044/1044 [==============================] - 2s 2ms/step - loss: 1.2207 - accuracy: 0.7611\n",
            "Epoch 47/100\n",
            "1044/1044 [==============================] - 2s 2ms/step - loss: 1.2204 - accuracy: 0.7562\n",
            "Epoch 48/100\n",
            "1044/1044 [==============================] - 2s 2ms/step - loss: 1.2211 - accuracy: 0.7709\n",
            "Epoch 49/100\n",
            "1044/1044 [==============================] - 2s 2ms/step - loss: 1.2206 - accuracy: 0.7603\n",
            "Epoch 50/100\n",
            "1044/1044 [==============================] - 3s 3ms/step - loss: 1.2207 - accuracy: 0.7451\n",
            "Epoch 51/100\n",
            "1044/1044 [==============================] - 3s 2ms/step - loss: 1.2203 - accuracy: 0.7464\n",
            "Epoch 52/100\n",
            "1044/1044 [==============================] - 2s 2ms/step - loss: 1.2198 - accuracy: 0.7438\n",
            "Epoch 53/100\n",
            "1044/1044 [==============================] - 2s 2ms/step - loss: 1.2212 - accuracy: 0.7516\n",
            "Epoch 54/100\n",
            "1044/1044 [==============================] - 2s 2ms/step - loss: 1.2209 - accuracy: 0.7516\n",
            "Epoch 55/100\n",
            "1044/1044 [==============================] - 3s 3ms/step - loss: 1.2208 - accuracy: 0.7456\n",
            "Epoch 56/100\n",
            "1044/1044 [==============================] - 3s 3ms/step - loss: 1.2206 - accuracy: 0.7591\n",
            "Epoch 57/100\n",
            "1044/1044 [==============================] - 2s 2ms/step - loss: 1.2205 - accuracy: 0.7502\n",
            "Epoch 58/100\n",
            "1044/1044 [==============================] - 2s 2ms/step - loss: 1.2208 - accuracy: 0.7486\n",
            "Epoch 59/100\n",
            "1044/1044 [==============================] - 2s 2ms/step - loss: 1.2204 - accuracy: 0.7259\n",
            "Epoch 60/100\n",
            "1044/1044 [==============================] - 3s 3ms/step - loss: 1.2208 - accuracy: 0.7380\n",
            "Epoch 61/100\n",
            "1044/1044 [==============================] - 3s 3ms/step - loss: 1.2201 - accuracy: 0.7454\n",
            "Epoch 62/100\n",
            "1044/1044 [==============================] - 2s 2ms/step - loss: 1.2218 - accuracy: 0.7404\n",
            "Epoch 63/100\n",
            "1044/1044 [==============================] - 2s 2ms/step - loss: 1.2213 - accuracy: 0.7330\n",
            "Epoch 64/100\n",
            "1044/1044 [==============================] - 2s 2ms/step - loss: 1.2205 - accuracy: 0.7406\n",
            "Epoch 65/100\n",
            "1044/1044 [==============================] - 3s 2ms/step - loss: 1.2211 - accuracy: 0.7206\n",
            "Epoch 66/100\n",
            "1044/1044 [==============================] - 3s 3ms/step - loss: 1.2211 - accuracy: 0.7307\n",
            "Epoch 67/100\n",
            "1044/1044 [==============================] - 2s 2ms/step - loss: 1.2211 - accuracy: 0.7373\n",
            "Epoch 68/100\n",
            "1044/1044 [==============================] - 2s 2ms/step - loss: 1.2209 - accuracy: 0.7350\n",
            "Epoch 69/100\n",
            "1044/1044 [==============================] - 2s 2ms/step - loss: 1.2216 - accuracy: 0.7232\n",
            "Epoch 70/100\n",
            "1044/1044 [==============================] - 2s 2ms/step - loss: 1.2218 - accuracy: 0.7378\n",
            "Epoch 71/100\n",
            "1044/1044 [==============================] - 3s 3ms/step - loss: 1.2214 - accuracy: 0.7258\n",
            "Epoch 72/100\n",
            "1044/1044 [==============================] - 2s 2ms/step - loss: 1.2206 - accuracy: 0.7125\n",
            "Epoch 73/100\n",
            "1044/1044 [==============================] - 2s 2ms/step - loss: 1.2206 - accuracy: 0.7158\n",
            "Epoch 74/100\n",
            "1044/1044 [==============================] - 2s 2ms/step - loss: 1.2212 - accuracy: 0.7163\n",
            "Epoch 75/100\n",
            "1044/1044 [==============================] - 2s 2ms/step - loss: 1.2215 - accuracy: 0.7159\n",
            "Epoch 76/100\n",
            "1044/1044 [==============================] - 3s 3ms/step - loss: 1.2216 - accuracy: 0.7237\n",
            "Epoch 77/100\n",
            "1044/1044 [==============================] - 2s 2ms/step - loss: 1.2216 - accuracy: 0.7200\n",
            "Epoch 78/100\n",
            "1044/1044 [==============================] - 2s 2ms/step - loss: 1.2222 - accuracy: 0.7140\n",
            "Epoch 79/100\n",
            "1044/1044 [==============================] - 2s 2ms/step - loss: 1.2215 - accuracy: 0.7182\n",
            "Epoch 80/100\n",
            "1044/1044 [==============================] - 2s 2ms/step - loss: 1.2211 - accuracy: 0.7099\n",
            "Epoch 81/100\n",
            "1044/1044 [==============================] - 3s 3ms/step - loss: 1.2212 - accuracy: 0.7301\n",
            "Epoch 82/100\n",
            "1044/1044 [==============================] - 2s 2ms/step - loss: 1.2219 - accuracy: 0.7258\n",
            "Epoch 83/100\n",
            "1044/1044 [==============================] - 2s 2ms/step - loss: 1.2215 - accuracy: 0.7235\n",
            "Epoch 84/100\n",
            "1044/1044 [==============================] - 2s 2ms/step - loss: 1.2213 - accuracy: 0.7039\n",
            "Epoch 85/100\n",
            "1044/1044 [==============================] - 2s 2ms/step - loss: 1.2211 - accuracy: 0.7179\n",
            "Epoch 86/100\n",
            "1044/1044 [==============================] - 3s 3ms/step - loss: 1.2213 - accuracy: 0.7247\n",
            "Epoch 87/100\n",
            "1044/1044 [==============================] - 2s 2ms/step - loss: 1.2212 - accuracy: 0.7267\n",
            "Epoch 88/100\n",
            "1044/1044 [==============================] - 2s 2ms/step - loss: 1.2216 - accuracy: 0.7125\n",
            "Epoch 89/100\n",
            "1044/1044 [==============================] - 2s 2ms/step - loss: 1.2220 - accuracy: 0.7168\n",
            "Epoch 90/100\n",
            "1044/1044 [==============================] - 2s 2ms/step - loss: 1.2214 - accuracy: 0.7172\n",
            "Epoch 91/100\n",
            "1044/1044 [==============================] - 3s 3ms/step - loss: 1.2221 - accuracy: 0.7072\n",
            "Epoch 92/100\n",
            "1044/1044 [==============================] - 2s 2ms/step - loss: 1.2217 - accuracy: 0.7280\n",
            "Epoch 93/100\n",
            "1044/1044 [==============================] - 2s 2ms/step - loss: 1.2220 - accuracy: 0.7212\n",
            "Epoch 94/100\n",
            "1044/1044 [==============================] - 2s 2ms/step - loss: 1.2219 - accuracy: 0.7132\n",
            "Epoch 95/100\n",
            "1044/1044 [==============================] - 2s 2ms/step - loss: 1.2222 - accuracy: 0.7183\n",
            "Epoch 96/100\n",
            "1044/1044 [==============================] - 3s 3ms/step - loss: 1.2215 - accuracy: 0.7218\n",
            "Epoch 97/100\n",
            "1044/1044 [==============================] - 2s 2ms/step - loss: 1.2221 - accuracy: 0.7316\n",
            "Epoch 98/100\n",
            "1044/1044 [==============================] - 2s 2ms/step - loss: 1.2215 - accuracy: 0.7085\n",
            "Epoch 99/100\n",
            "1044/1044 [==============================] - 2s 2ms/step - loss: 1.2219 - accuracy: 0.7109\n",
            "Epoch 100/100\n",
            "1044/1044 [==============================] - 2s 2ms/step - loss: 1.2212 - accuracy: 0.7121\n"
          ]
        },
        {
          "output_type": "execute_result",
          "data": {
            "text/plain": [
              "<keras.callbacks.History at 0x7f2ccd60ddc0>"
            ]
          },
          "metadata": {},
          "execution_count": 84
        }
      ]
    },
    {
      "cell_type": "markdown",
      "source": [
        "# Test Model"
      ],
      "metadata": {
        "id": "W34qQxMywEae"
      }
    },
    {
      "cell_type": "code",
      "source": [
        "prediction = model.predict(X_test)\n",
        "prediction_class = [1 if i>0.5 else 0 for i in prediction]\n",
        "\n",
        "# Model performance\n",
        "print(classification_report(y_test, prediction_class))"
      ],
      "metadata": {
        "colab": {
          "base_uri": "https://localhost:8080/"
        },
        "id": "LE1aKO_a3-sw",
        "outputId": "5cb7b5ee-467b-4414-9b9a-0da264b4207b"
      },
      "execution_count": 85,
      "outputs": [
        {
          "output_type": "stream",
          "name": "stdout",
          "text": [
            "343/343 [==============================] - 1s 2ms/step\n",
            "              precision    recall  f1-score   support\n",
            "\n",
            "           0       0.92      0.88      0.90     10028\n",
            "           1       0.11      0.15      0.12       934\n",
            "\n",
            "    accuracy                           0.82     10962\n",
            "   macro avg       0.51      0.52      0.51     10962\n",
            "weighted avg       0.85      0.82      0.83     10962\n",
            "\n"
          ]
        }
      ]
    },
    {
      "cell_type": "code",
      "source": [
        "# Check the ROC/AUC value\n",
        "\n",
        "print(f'The ROC/AUC value is {roc_auc_score(y_test, prediction_class):.3f}.')"
      ],
      "metadata": {
        "colab": {
          "base_uri": "https://localhost:8080/"
        },
        "id": "HryGwcjJ-r_P",
        "outputId": "0a8053c9-3205-4e83-8814-7aef452be2ad"
      },
      "execution_count": 86,
      "outputs": [
        {
          "output_type": "stream",
          "name": "stdout",
          "text": [
            "The ROC/AUC value is 0.515.\n"
          ]
        }
      ]
    },
    {
      "cell_type": "code",
      "source": [
        "# Confusion matrix\n",
        "\n",
        "confusion_matrix(y_test, prediction_class)"
      ],
      "metadata": {
        "colab": {
          "base_uri": "https://localhost:8080/"
        },
        "id": "xXKcB8vh_IJ5",
        "outputId": "e40d93f4-d812-4c02-b73f-1ce1335a4fd9"
      },
      "execution_count": 87,
      "outputs": [
        {
          "output_type": "execute_result",
          "data": {
            "text/plain": [
              "array([[8866, 1162],\n",
              "       [ 797,  137]])"
            ]
          },
          "metadata": {},
          "execution_count": 87
        }
      ]
    },
    {
      "cell_type": "code",
      "source": [
        "f, ax = plt.subplots(figsize=(8,5))\n",
        "sns.heatmap(confusion_matrix(y_test, prediction_class), annot=True, fmt=\".0f\", ax=ax)\n",
        "plt.xlabel(\"y_predic\")\n",
        "plt.ylabel(\"y_true\")\n",
        "plt.show()"
      ],
      "metadata": {
        "colab": {
          "base_uri": "https://localhost:8080/",
          "height": 335
        },
        "id": "z8uMosGqJQNQ",
        "outputId": "1f0d7c1b-b612-4d71-9af3-17d87d18a825"
      },
      "execution_count": 88,
      "outputs": [
        {
          "output_type": "display_data",
          "data": {
            "text/plain": [
              "<Figure size 576x360 with 2 Axes>"
            ],
            "image/png": "[encoded data removed]"
          },
          "metadata": {
            "needs_background": "light"
          }
        }
      ]
    }
  ]
}